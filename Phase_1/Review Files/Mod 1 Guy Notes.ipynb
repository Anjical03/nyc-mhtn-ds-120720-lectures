{
 "metadata": {
  "language_info": {
   "codemirror_mode": {
    "name": "ipython",
    "version": 3
   },
   "file_extension": ".py",
   "mimetype": "text/x-python",
   "name": "python",
   "nbconvert_exporter": "python",
   "pygments_lexer": "ipython3",
   "version": "3.8.5-final"
  },
  "orig_nbformat": 2,
  "kernelspec": {
   "name": "python3",
   "display_name": "Python 3",
   "language": "python"
  }
 },
 "nbformat": 4,
 "nbformat_minor": 2,
 "cells": [
  {
   "source": [
    "Guy's Notebook"
   ],
   "cell_type": "markdown",
   "metadata": {}
  },
  {
   "source": [
    "Using a dict comprehension to setup a top 5 of something using non intergral values"
   ],
   "cell_type": "markdown",
   "metadata": {}
  },
  {
   "cell_type": "code",
   "execution_count": null,
   "metadata": {},
   "outputs": [],
   "source": [
    "pd.DataFrame({c:j_df[c].value_counts() for c in powers_df.columns[1:]}).T[True].nlargest(5)  "
   ]
  },
  {
   "source": [
    "How to set up a functional histogram plot type"
   ],
   "cell_type": "markdown",
   "metadata": {}
  },
  {
   "source": [
    "male_heroes_df = heroes_df[heroes_df['Gender'] == 'Male']\n",
    "female_heroes_df = heroes_df[heroes_df['Gender'] == 'Female']\n",
    "\n",
    "def show_distplot(dataframe, gender, column_name):\n",
    "    plt.plot()\n",
    "    dataframe[column_name].hist()\n",
    "    plt.title('Distribution of {} for {} heroes'.format(column_name, gender))\n",
    "    plt.xlabel(column_name)\n",
    "    plt.ylabel('Probability Density')\n",
    "    plt.show()"
   ],
   "cell_type": "code",
   "metadata": {},
   "execution_count": null,
   "outputs": []
  },
  {
   "source": [
    "Another way to setup a histogram plot"
   ],
   "cell_type": "markdown",
   "metadata": {}
  },
  {
   "cell_type": "code",
   "execution_count": null,
   "metadata": {},
   "outputs": [],
   "source": [
    "import pandas as pd\n",
    "import matplotlib.pyplot as plt\n",
    "import numpy as np\n",
    "%matplotlib inline\n",
    "\n",
    "fig, ax = plt.subplots()\n",
    "\n",
    "ax.hist(df['alcohol'], bins=30)\n",
    "\n",
    "ax.set_xlabel('Days Drinking')\n",
    "ax.set_ylabel('# of observations')\n",
    "ax.set_title(\"Distribution of Days Drinking\")\n",
    "\n",
    "plt.show()"
   ]
  },
  {
   "cell_type": "code",
   "execution_count": null,
   "metadata": {},
   "outputs": [],
   "source": [
    "Setting up a scatter plot between two dataframes"
   ]
  },
  {
   "cell_type": "code",
   "execution_count": null,
   "metadata": {},
   "outputs": [],
   "source": [
    "fig, ax = plt.subplots()\n",
    "\n",
    "# Add data: \"height\", \"weight\" as x-y, index as color\n",
    "ax.scatter(df[\"alcohol\"], df[\"PHYSHLTH\"])\n",
    "\n",
    "ax.set_xlabel(\"Drinking Days\")\n",
    "ax.set_ylabel(\"Sick Days\")\n",
    "ax.set_title('Relationship between Drinking and Health')\n",
    "\n",
    "\n",
    "plt.show()"
   ]
  },
  {
   "source": [
    "Yet another way to setup a bar plot"
   ],
   "cell_type": "markdown",
   "metadata": {}
  },
  {
   "cell_type": "code",
   "execution_count": null,
   "metadata": {},
   "outputs": [],
   "source": [
    "import pandas as pd\n",
    "import matplotlib.pyplot as plt\n",
    "import numpy as np\n",
    "%matplotlib inline\n",
    "\n",
    "fig, ax = plt.subplots()\n",
    "\n",
    "# Plot a bar-chart\n",
    "ax.bar(states, means)\n",
    "\n",
    "# Set title and lables\n",
    "ax.set_xticklabels(['Conn', 'NJ', 'NY'], rotation=90)\n",
    "ax.set_ylabel(\"AVG Days Sick\")\n",
    "ax.set_title('Comparing Health by State')\n",
    "\n",
    "plt.show()"
   ]
  },
  {
   "source": [
    "Another one with histogram imposed over the others"
   ],
   "cell_type": "markdown",
   "metadata": {}
  },
  {
   "cell_type": "code",
   "execution_count": null,
   "metadata": {},
   "outputs": [],
   "source": [
    "import pandas as pd\n",
    "import matplotlib.pyplot as plt\n",
    "import numpy as np\n",
    "%matplotlib inline\n",
    "# graphic showing the histogram of data\n",
    "\n",
    "fig, ax = plt.subplots()\n",
    "\n",
    "ax.hist(df[df['_STATE']==9]['PHYSHLTH'], bins=15, density=True, histtype='step', label='Conn')\n",
    "ax.hist(df[df['_STATE']==34]['PHYSHLTH'], bins=15, density=True,histtype='step', label='NJ')\n",
    "ax.hist(df[df['_STATE']==36]['PHYSHLTH'], bins=15, density=True,histtype='step', label='NY')\n",
    "\n",
    "# Set labels and title\n",
    "ax.set_xlabel('Sick Days')\n",
    "ax.set_ylabel('% of observations')\n",
    "ax.set_title(\"Distribution of People's Sick Days\")\n",
    "ax.legend()\n",
    "\n",
    "plt.show()"
   ]
  },
  {
   "source": [
    "Creating a new column of data using the np.where"
   ],
   "cell_type": "markdown",
   "metadata": {}
  },
  {
   "cell_type": "code",
   "execution_count": null,
   "metadata": {},
   "outputs": [],
   "source": [
    "df['chron'] = np.where(df['PHYSHLTH']>20, 1, 0)\n",
    "\n",
    "#1 is where all the True go and 0 is where all the False go"
   ]
  },
  {
   "source": [
    "Creating a value count list of index we are looking for and the % it turns up"
   ],
   "cell_type": "markdown",
   "metadata": {}
  },
  {
   "cell_type": "code",
   "execution_count": null,
   "metadata": {},
   "outputs": [],
   "source": [
    "smoking_avg = df['smoking'].value_counts()/df['smoking'].count()\n",
    "smoking_avg\n",
    "\n",
    "#can also use\n",
    "\n",
    "df[df['chron'] >=0].groupby('_STATE')['chron'].value_counts(normalize = True)"
   ]
  },
  {
   "source": [
    "checking the values of a group by two different columns with a count"
   ],
   "cell_type": "markdown",
   "metadata": {}
  },
  {
   "cell_type": "code",
   "execution_count": null,
   "metadata": {},
   "outputs": [],
   "source": [
    "df.groupby(['_STATE', 'smoking'])['smoking'].count()"
   ]
  },
  {
   "source": [
    "If you want to add a column with a function applyed to data in another column"
   ],
   "cell_type": "markdown",
   "metadata": {}
  },
  {
   "cell_type": "code",
   "execution_count": null,
   "metadata": {},
   "outputs": [],
   "source": [
    "df['sepal_length_10_lambda'] = df['sepal_length'].apply(lambda x: x*10)\n",
    "\n",
    "#use .apply(lambda x:x*10) to create the temporary anonymous function"
   ]
  },
  {
   "source": [
    "1) replacing values in a table \n",
    "2) getting the percent of the value count\n",
    "3) creating a stacked bar plot"
   ],
   "cell_type": "markdown",
   "metadata": {}
  },
  {
   "cell_type": "code",
   "execution_count": null,
   "metadata": {},
   "outputs": [],
   "source": [
    "df._STATE.replace([9,34,36],['Conn','NJ','NY'],inplace=True)\n",
    "df.SMOKDAY2.replace([1,2,3,7,9],['Every Day','Some Days','Not at All','Not Sure','Refused'],inplace=True)\n",
    "\n",
    "x = df.groupby('_STATE')['SMOKDAY2'].value_counts(normalize=True).unstack() * 100\n",
    "fig,ax = plt.subplots()\n",
    "x.plot.bar(stacked=True,ax=ax,)\n",
    "ax.legend(bbox_to_anchor=(1.1, 1.05))"
   ]
  },
  {
   "source": [
    "Finding a NA value and correcting (one way)"
   ],
   "cell_type": "markdown",
   "metadata": {}
  },
  {
   "cell_type": "code",
   "execution_count": null,
   "metadata": {},
   "outputs": [],
   "source": [
    "heroes_df.isna().sum()\n",
    "#see the sum of all the NA in a category\n",
    "\n",
    "heroes_df[heroes_df['Publisher'].isna()]\n",
    "#put the table of the NA under the column 'publisher'\n",
    "\n",
    "heroes_df.loc[heroes_df['Publisher'].isna(),'Publisher'] = \"No Publisher Info\"\n",
    "#replaces all the NA under the column 'Publisher' with \"No publisher info\""
   ]
  },
  {
   "source": [
    "creating a list of all the x values and a y of the mean we are looking for in each"
   ],
   "cell_type": "markdown",
   "metadata": {}
  },
  {
   "cell_type": "code",
   "execution_count": null,
   "metadata": {},
   "outputs": [],
   "source": [
    "y = df.groupby('species')['petal_length'].mean()\n",
    "x = df.species.unique()\n",
    "\n",
    "or\n",
    "\n",
    "y = df.groupby(['species'])['petal_lenght'].mean()\n",
    "x = y.index\n",
    "\n",
    "#this would pull the index from the y that was just used"
   ]
  },
  {
   "source": [
    "finding the correlational coefficient of two columns"
   ],
   "cell_type": "markdown",
   "metadata": {}
  },
  {
   "cell_type": "code",
   "execution_count": null,
   "metadata": {},
   "outputs": [],
   "source": [
    "np.corrcoef(df['sepal_length'], df['sepal_width'])"
   ]
  },
  {
   "source": [
    "running through a nested dictionary to pull from different iterables "
   ],
   "cell_type": "markdown",
   "metadata": {}
  },
  {
   "cell_type": "code",
   "execution_count": null,
   "metadata": {},
   "outputs": [],
   "source": [
    "def pets_older_than(groomer_info, age):\n",
    "    age_name = []\n",
    "    for k,v in groomer_info['pets'][0].items():\n",
    "        for d in v:\n",
    "            if d['age'] > age:\n",
    "                age_name.append(k)\n",
    "    return age_name"
   ]
  },
  {
   "source": [
    "If values in a dataframe needs to be replaced (i.e. 888.0 actually means 0.0)"
   ],
   "cell_type": "markdown",
   "metadata": {}
  },
  {
   "cell_type": "code",
   "execution_count": null,
   "metadata": {},
   "outputs": [],
   "source": [
    "alc_dict = {888:0, \n",
    "            777: np.nan,\n",
    "            999: np.nan\n",
    "            }\n",
    "\n",
    "df['alcohol'] = df['ALCDAY5'].replace(alc_dict)"
   ]
  },
  {
   "source": [
    "if we want to create a function that will cull day sets according to a month frame"
   ],
   "cell_type": "markdown",
   "metadata": {}
  },
  {
   "cell_type": "code",
   "execution_count": null,
   "metadata": {},
   "outputs": [],
   "source": [
    "def calc_monthly(x):\n",
    "    if x>200:\n",
    "        return x-200\n",
    "    elif x>100:\n",
    "        return min(int((x-100)*4.34524), 30)\n",
    "    else:\n",
    "        return x\n",
    "\n",
    "df['alcohol'] = df['alcohol'].apply(calc_monthly)"
   ]
  },
  {
   "source": [
    "outputting through conditional dataframe "
   ],
   "cell_type": "markdown",
   "metadata": {}
  },
  {
   "cell_type": "code",
   "execution_count": null,
   "metadata": {},
   "outputs": [],
   "source": [
    "df.loc[(df['Year'] == 1950) & (df['Stage'] == 'Group 3')]\n",
    "\n",
    "#if we want just the attendance of those sets\n",
    "\n",
    "df.loc[(df['Year'] == 1950) & (df['Stage'] == 'Group 3'), 'Attendance']"
   ]
  },
  {
   "source": [
    "replacing spaces with _ (put int infront of (x.replace(' ', '_') if dealing with integers)"
   ],
   "cell_type": "markdown",
   "metadata": {}
  },
  {
   "cell_type": "code",
   "execution_count": null,
   "metadata": {},
   "outputs": [],
   "source": [
    "df.population = df.population.apply(lambda x: (x.replace(' ', '_')))"
   ]
  },
  {
   "source": [
    "looping through another dictionary"
   ],
   "cell_type": "markdown",
   "metadata": {}
  },
  {
   "source": [
    "list_of_q = []\n",
    "\n",
    "for v in questions.values():\n",
    "    print(v)\n",
    "    question = v['question']\n",
    "    list_of_q.append(question)\n",
    "\n",
    "print(list_of_q)"
   ],
   "cell_type": "code",
   "metadata": {},
   "execution_count": null,
   "outputs": []
  },
  {
   "source": [
    "looping through dictionary with .items()"
   ],
   "cell_type": "markdown",
   "metadata": {}
  },
  {
   "cell_type": "code",
   "execution_count": null,
   "metadata": {},
   "outputs": [],
   "source": [
    "for k, v in questions.items():\n",
    "    print('key = ', k)\n",
    "    print('value = ', v)\n",
    "\n",
    "#you will get \n",
    "# key = A\n",
    "# value = v which is questions.value() "
   ]
  },
  {
   "source": [
    "separateing odd and even numbers / break and continue"
   ],
   "cell_type": "markdown",
   "metadata": {}
  },
  {
   "cell_type": "code",
   "execution_count": null,
   "metadata": {},
   "outputs": [],
   "source": [
    "for x in [12,16,17,24,29]:\n",
    "    if x % 2 == 1:  #if the number is odd\n",
    "        break       #exit the loop\n",
    "    print(x)\n",
    "-> \n",
    "12\n",
    "16\n",
    "\n",
    "for x in [12,16,17,24,29]:\n",
    "    if x % 2 == 1:\n",
    "        continue\n",
    "    print(x)\n",
    "->\n",
    "12\n",
    "16\n",
    "24\n",
    "30"
   ]
  },
  {
   "source": [
    "extracting from tuples"
   ],
   "cell_type": "markdown",
   "metadata": {}
  },
  {
   "cell_type": "code",
   "execution_count": null,
   "metadata": {},
   "outputs": [],
   "source": [
    "list_tup = [(2,5),(6,8),(4,6)]\n",
    "\n",
    "for x in list_tup:\n",
    "    print(x[0])\n",
    "->\n",
    "2\n",
    "6\n",
    "4"
   ]
  },
  {
   "cell_type": "code",
   "execution_count": null,
   "metadata": {},
   "outputs": [],
   "source": []
  },
  {
   "cell_type": "code",
   "execution_count": null,
   "metadata": {},
   "outputs": [],
   "source": []
  },
  {
   "cell_type": "code",
   "execution_count": null,
   "metadata": {},
   "outputs": [],
   "source": []
  },
  {
   "cell_type": "code",
   "execution_count": null,
   "metadata": {},
   "outputs": [],
   "source": []
  },
  {
   "cell_type": "code",
   "execution_count": null,
   "metadata": {},
   "outputs": [],
   "source": []
  },
  {
   "cell_type": "code",
   "execution_count": null,
   "metadata": {},
   "outputs": [],
   "source": []
  },
  {
   "cell_type": "code",
   "execution_count": null,
   "metadata": {},
   "outputs": [],
   "source": []
  },
  {
   "cell_type": "code",
   "execution_count": null,
   "metadata": {},
   "outputs": [],
   "source": []
  },
  {
   "cell_type": "code",
   "execution_count": null,
   "metadata": {},
   "outputs": [],
   "source": []
  },
  {
   "cell_type": "code",
   "execution_count": null,
   "metadata": {},
   "outputs": [],
   "source": []
  },
  {
   "cell_type": "code",
   "execution_count": null,
   "metadata": {},
   "outputs": [],
   "source": []
  },
  {
   "cell_type": "code",
   "execution_count": null,
   "metadata": {},
   "outputs": [],
   "source": []
  },
  {
   "cell_type": "code",
   "execution_count": null,
   "metadata": {},
   "outputs": [],
   "source": []
  },
  {
   "cell_type": "code",
   "execution_count": null,
   "metadata": {},
   "outputs": [],
   "source": []
  },
  {
   "cell_type": "code",
   "execution_count": null,
   "metadata": {},
   "outputs": [],
   "source": []
  },
  {
   "cell_type": "code",
   "execution_count": null,
   "metadata": {},
   "outputs": [],
   "source": []
  },
  {
   "cell_type": "code",
   "execution_count": null,
   "metadata": {},
   "outputs": [],
   "source": []
  },
  {
   "cell_type": "code",
   "execution_count": null,
   "metadata": {},
   "outputs": [],
   "source": []
  },
  {
   "cell_type": "code",
   "execution_count": null,
   "metadata": {},
   "outputs": [],
   "source": []
  },
  {
   "cell_type": "code",
   "execution_count": null,
   "metadata": {},
   "outputs": [],
   "source": []
  },
  {
   "cell_type": "code",
   "execution_count": null,
   "metadata": {},
   "outputs": [],
   "source": []
  },
  {
   "cell_type": "code",
   "execution_count": null,
   "metadata": {},
   "outputs": [],
   "source": []
  }
 ]
}