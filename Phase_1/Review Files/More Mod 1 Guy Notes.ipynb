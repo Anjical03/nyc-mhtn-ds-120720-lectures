{
 "metadata": {
  "language_info": {
   "codemirror_mode": {
    "name": "ipython",
    "version": 3
   },
   "file_extension": ".py",
   "mimetype": "text/x-python",
   "name": "python",
   "nbconvert_exporter": "python",
   "pygments_lexer": "ipython3",
   "version": "3.8.5-final"
  },
  "orig_nbformat": 2,
  "kernelspec": {
   "name": "python3",
   "display_name": "Python 3",
   "language": "python"
  }
 },
 "nbformat": 4,
 "nbformat_minor": 2,
 "cells": [
  {
   "source": [
    "SELECTING DATA LAB"
   ],
   "cell_type": "markdown",
   "metadata": {}
  },
  {
   "source": [
    "A primary key is a unique identifier for a table. That is, there can only be unique values for this column entry."
   ],
   "cell_type": "markdown",
   "metadata": {}
  },
  {
   "source": [
    "you'll see that the columns that are the primary key for one table can also appear on other tables. This is known as a foreign key aka the primary key from a different (\"foreign\") table. This is the core idea of how data on different tables is associated in a relational database. If you were told a specific customerNumber, and then given a list of order data that included the customerNumber, you could determine which orders were placed by that customer by matching up the primary and foreign keys."
   ],
   "cell_type": "markdown",
   "metadata": {}
  },
  {
   "source": [
    "Once you're connected to the database, you can then read and select data from the database, or even write data to the database. To retrieve data from one or more tables you usually use a SELECT statement. "
   ],
   "cell_type": "markdown",
   "metadata": {}
  },
  {
   "source": [
    "For now, just notice that queries start with the SELECT clause, followed by what you want to select. If selecting multiple columns, you separate them with a comma. Then you specify where that data is being retrieved from the using the FROM clause followed by the table name. Afterward, you can provide conditions such as filters or limits on the amount of data returned."
   ],
   "cell_type": "markdown",
   "metadata": {}
  },
  {
   "source": [
    "Cursor objects allow you to keep track of which result set is which since it's possible to run multiple queries before you're done fetching the results of the first."
   ],
   "cell_type": "markdown",
   "metadata": {}
  },
  {
   "cell_type": "code",
   "execution_count": null,
   "metadata": {},
   "outputs": [],
   "source": [
    "# connect database and create cursor here\n",
    "import sqlite3 \n",
    "conn = sqlite3.connect('data.sqlite')\n",
    "cur = conn.cursor()"
   ]
  },
  {
   "cell_type": "code",
   "execution_count": null,
   "metadata": {},
   "outputs": [],
   "source": [
    "cur.execute(\"\"\"SELECT * FROM employees LIMIT 5;\"\"\")"
   ]
  },
  {
   "source": [
    "The execute command itself only returns the cursor object. To see the results, you must use the fetchall method afterwards."
   ],
   "cell_type": "markdown",
   "metadata": {}
  },
  {
   "cell_type": "code",
   "execution_count": null,
   "metadata": {},
   "outputs": [],
   "source": [
    "cur.fetchall()\n",
    "\n",
    "#  or just do \n",
    "\n",
    "cur.execute(\"\"\"SELECT * FROM employees LIMIT 5;\"\"\").fetchall()"
   ]
  },
  {
   "source": [
    "Often, a more convenient output will be to turn these results into pandas DataFrames. To do this, you simply wrap the c.fetchall() output with a pandas DataFrame constructor:"
   ],
   "cell_type": "markdown",
   "metadata": {}
  },
  {
   "cell_type": "code",
   "execution_count": null,
   "metadata": {},
   "outputs": [],
   "source": [
    "import pandas as pd\n",
    "\n",
    "cur.execute(\"\"\"SELECT * FROM employees LIMIT 5;\"\"\")\n",
    "df = pd.DataFrame(cur.fetchall())\n",
    "df.head()"
   ]
  },
  {
   "source": [
    "we end up with a dataframe that has numbers as the labels of the columns. So we call cur.description ..."
   ],
   "cell_type": "markdown",
   "metadata": {}
  },
  {
   "cell_type": "code",
   "execution_count": null,
   "metadata": {},
   "outputs": [],
   "source": [
    "cur.execute(\"\"\"SELECT * FROM employees LIMIT 5;\"\"\")\n",
    "df = pd.DataFrame(cur.fetchall())\n",
    "df.columns = [x[0] for x in cur.description]\n",
    "df.head()"
   ]
  },
  {
   "source": [
    "In general, the WHERE clause filters query results by some condition. As you are starting to see, you can also combine multiple conditions. Here we are looking at Boston in our city column"
   ],
   "cell_type": "markdown",
   "metadata": {}
  },
  {
   "cell_type": "code",
   "execution_count": null,
   "metadata": {},
   "outputs": [],
   "source": [
    "cur.execute(\"\"\"SELECT * FROM customers WHERE city = 'Boston';\"\"\")\n",
    "df = pd.DataFrame(cur.fetchall())\n",
    "df.columns = [x[0] for x in cur.description]\n",
    "df"
   ]
  },
  {
   "source": [
    "we can add an Or or And to select multiple columns"
   ],
   "cell_type": "markdown",
   "metadata": {}
  },
  {
   "cell_type": "code",
   "execution_count": null,
   "metadata": {},
   "outputs": [],
   "source": [
    "cur.execute(\"\"\"SELECT * FROM customers WHERE city = 'Boston' OR city = 'Madrid';\"\"\")\n",
    "df = pd.DataFrame(cur.fetchall())\n",
    "df.columns = [x[0] for x in cur.description]\n",
    "df"
   ]
  },
  {
   "source": [
    "Two additional keywords that you can use to refine your searches are the ORDER BY and LIMIT clauses. The order by clause allows you to sort the results by a particular feature. For example, you could sort by the customerName column if you wished to get results in alphabetical order. By default, ORDER BY is ascending. So, as with the above example, if you want the opposite, use the additional parameter DESC. Finally, the limit clause is typically the last argument in a SQL query and simply limits the output to a set number of results."
   ],
   "cell_type": "markdown",
   "metadata": {}
  },
  {
   "cell_type": "code",
   "execution_count": null,
   "metadata": {},
   "outputs": [],
   "source": [
    "cur.execute(\"\"\"SELECT customerNumber, customerName, city, creditLimit\n",
    "               FROM customers\n",
    "               WHERE (city = 'Boston' OR city = 'Madrid') AND (creditLimit >= 50000.00)\n",
    "               ORDER BY creditLimit DESC\n",
    "               LIMIT 15\n",
    "               ;\"\"\")\n",
    "df = pd.DataFrame(cur.fetchall())\n",
    "df.columns = [x[0] for x in cur.description]\n",
    "df"
   ]
  },
  {
   "source": [
    "make sure to check the type of the values if they are not working out when they should. Sometimes numbers can come back as strings"
   ],
   "cell_type": "markdown",
   "metadata": {}
  },
  {
   "cell_type": "code",
   "execution_count": null,
   "metadata": {},
   "outputs": [],
   "source": [
    "type(df.creditLimit.iloc[0]) #to check the type"
   ]
  },
  {
   "source": [
    "TEST LAB"
   ],
   "cell_type": "markdown",
   "metadata": {}
  },
  {
   "cell_type": "code",
   "execution_count": null,
   "metadata": {},
   "outputs": [],
   "source": [
    "import sqlite3\n",
    "import pandas as pd\n",
    "conn = sqlite3.connect('planets.db')\n",
    "cur = conn.cursor()"
   ]
  },
  {
   "cell_type": "code",
   "execution_count": null,
   "metadata": {},
   "outputs": [],
   "source": [
    "cur.execute(\"\"\" SELECT name, color FROM planets; \"\"\")\n",
    "df = pd.DataFrame(cur.fetchall())\n",
    "df.columns = [x[0] for x in cur.description]         #this will go through the column where x goes through the headers and applies the titles\n",
    "df"
   ]
  },
  {
   "source": [
    "If you want to get the DataFrame with just the titles you want do this"
   ],
   "cell_type": "markdown",
   "metadata": {}
  },
  {
   "cell_type": "code",
   "execution_count": null,
   "metadata": {},
   "outputs": [],
   "source": [
    "cur.execute(\"\"\" SELECT name, color FROM planets; \"\"\")\n",
    "df = pd.DataFrame(cur.fetchall())\n",
    "df.columns = [x[0] for x in cur.description]\n",
    "df"
   ]
  },
  {
   "source": [
    "if you want all the titles do this "
   ],
   "cell_type": "markdown",
   "metadata": {}
  },
  {
   "cell_type": "code",
   "execution_count": null,
   "metadata": {},
   "outputs": [],
   "source": [
    "cur.execute(\"\"\" SELECT * FROM planets WHERE mass  > 1.00 ; \"\"\")\n",
    "df = pd.DataFrame(cur.fetchall())\n",
    "df.columns = [x[0] for x in cur.description]\n",
    "df"
   ]
  },
  {
   "source": [
    "if we need to do a simple WHERE statement we can do this"
   ],
   "cell_type": "markdown",
   "metadata": {}
  },
  {
   "cell_type": "code",
   "execution_count": null,
   "metadata": {},
   "outputs": [],
   "source": [
    "cur.execute(\"\"\" SELECT name, color FROM planets WHERE num_of_moons > 10 ; \"\"\")\n",
    "df = pd.DataFrame(cur.fetchall())\n",
    "df.columns = [x[0] for x in cur.description]\n",
    "df"
   ]
  },
  {
   "source": [
    "the details of the values need to be setup as strings if they aren't int"
   ],
   "cell_type": "markdown",
   "metadata": {}
  },
  {
   "cell_type": "code",
   "execution_count": null,
   "metadata": {},
   "outputs": [],
   "source": [
    "cur.execute(\"\"\" SELECT name, color FROM planets WHERE \n",
    "            color = 'blue' OR \n",
    "            color = 'dark blue' OR \n",
    "            color = 'light blue' \n",
    "            ; \"\"\")\n",
    "df = pd.DataFrame(cur.fetchall())\n",
    "df.columns = [x[0] for x in cur.description]\n",
    "df"
   ]
  },
  {
   "cell_type": "code",
   "execution_count": null,
   "metadata": {},
   "outputs": [],
   "source": [
    "Here we can see how to do ORDER BY and set a list DESCending and with a LIMIT"
   ]
  },
  {
   "cell_type": "code",
   "execution_count": null,
   "metadata": {},
   "outputs": [],
   "source": [
    "cur.execute(\"\"\" SELECT name, color, num_of_moons \n",
    "            FROM planets \n",
    "            WHERE rings = 0 \n",
    "            ORDER BY mass \n",
    "            DESC\n",
    "            LIMIT 4; \"\"\")\n",
    "df = pd.DataFrame(cur.fetchall())\n",
    "df.columns = [x[0] for x in cur.description]\n",
    "df"
   ]
  },
  {
   "source": [],
   "cell_type": "markdown",
   "metadata": {}
  },
  {
   "source": [
    "FILTERING AND ORDERING"
   ],
   "cell_type": "markdown",
   "metadata": {}
  },
  {
   "source": [
    "The first query modifier you'll explore is ORDER BY. This modifier allows us to order the table rows returned by a certain SELECT statement. Here's a boilerplate SELECT statement that uses ORDER BY:\n"
   ],
   "cell_type": "markdown",
   "metadata": {}
  },
  {
   "cell_type": "code",
   "execution_count": null,
   "metadata": {},
   "outputs": [],
   "source": [
    "cur.execute('''SELECT column_name FROM table_name ORDER BY column_name ASC|DESC;''').fetchall()"
   ]
  },
  {
   "source": [
    "Let's select our cats and order them by age:"
   ],
   "cell_type": "markdown",
   "metadata": {}
  },
  {
   "cell_type": "code",
   "execution_count": null,
   "metadata": {},
   "outputs": [],
   "source": [
    "cur.execute('''SELECT * FROM cats ORDER BY age;''').fetchall()"
   ]
  },
  {
   "source": [
    "Here we are able to find all the information of the cats and order it by age ascending "
   ],
   "cell_type": "markdown",
   "metadata": {}
  },
  {
   "cell_type": "code",
   "execution_count": null,
   "metadata": {},
   "outputs": [],
   "source": [
    "cur.execute('''SELECT * FROM cats ORDER BY age ASC;''').fetchall()"
   ]
  },
  {
   "cell_type": "code",
   "execution_count": null,
   "metadata": {},
   "outputs": [],
   "source": [
    "What if you want the oldest cat? If you want to select extremes from a database table––for example, the employee with the highest paycheck or the patient with the most recent appointment––we can use ORDER BY in conjunction with LIMIT\n",
    "\n",
    "putting LIMIT 1 or .fetchone() will return the first index"
   ]
  },
  {
   "source": [
    "If you need to get specific ranges between two sets of information you can use between like this\n",
    "\n",
    "SELECT column_name(s) FROM table_name WHERE column_name BETWEEN value1 AND value2;\n",
    "\n"
   ],
   "cell_type": "markdown",
   "metadata": {}
  },
  {
   "cell_type": "code",
   "execution_count": null,
   "metadata": {},
   "outputs": [],
   "source": [
    "cur.execute(\"\"\"SELECT name FROM cats WHERE age BETWEEN 1 AND 3;\"\"\").fetchall()"
   ]
  },
  {
   "source": [
    "Some cats were added to the Database that weren't given a name. Let's find them with:\n",
    "\n",
    "SELECT * FROM cats WHERE Name IS null;"
   ],
   "cell_type": "markdown",
   "metadata": {}
  },
  {
   "source": [
    "Now, let's talk about the SQL aggregate function COUNT.\n",
    "\n",
    "SQL aggregate functions are SQL statements that can get the average of a column's values, retrieve the minimum and maximum values from a column, sum values in a column, or count a number of records that meet certain conditions. You can learn more about these SQL aggregators here and here.\n",
    "\n",
    "For now, we'll just focus on COUNT, which counts the number of records that meet a certain condition. Here's a standard SQL query using COUNT:\n",
    "\n",
    "SELECT COUNT([column name]) FROM [table name] WHERE [column name] = [value]\n",
    "\n",
    "Let's try it out and count the number of cats who have an owner_id of 1:\n",
    "\n",
    "SELECT COUNT(owner_id) FROM cats WHERE owner_id = 1;"
   ],
   "cell_type": "markdown",
   "metadata": {}
  },
  {
   "cell_type": "code",
   "execution_count": null,
   "metadata": {},
   "outputs": [],
   "source": [
    "cur.execute(\"\"\"SELECT COUNT(owner_id) FROM cats WHERE owner_id = 1;\"\"\").fetchall() #will allow us to see an int count for a value set against"
   ]
  },
  {
   "source": [
    "what if you had a larger database where you couldn't just tally up the number of cats grouped by breed? That's where — you guessed it! — GROUP BY comes in handy."
   ],
   "cell_type": "markdown",
   "metadata": {}
  },
  {
   "cell_type": "code",
   "execution_count": null,
   "metadata": {},
   "outputs": [],
   "source": [
    "cur.execute(\"\"\"SELECT breed, COUNT(breed) FROM cats GROUP BY breed;\"\"\").fetchall()"
   ]
  },
  {
   "source": [
    "returns a list of ('American Shorthair', 1), ('Calico', 1), ('Scottish Fold', 1), ('Tabby', 3)"
   ],
   "cell_type": "markdown",
   "metadata": {}
  },
  {
   "source": [
    "GROUP BY is a great function for aggregating results into different segments — you can even use it on multiple columns!"
   ],
   "cell_type": "markdown",
   "metadata": {}
  },
  {
   "cell_type": "code",
   "execution_count": null,
   "metadata": {},
   "outputs": [],
   "source": [
    "cur.execute(\"\"\"SELECT breed, owner_id, COUNT(breed) FROM cats GROUP BY breed, owner_id;\"\"\").fetchall()"
   ]
  },
  {
   "source": [
    "We are now familiar with this syntax:\n",
    "\n",
    "SELECT name FROM cats;\n",
    "\n",
    "However, you may not know that this can be written like this as well:\n",
    "\n",
    "SELECT cats.name FROM cats;\n",
    "\n",
    "Both return:\n",
    "\n",
    "[('Maru',), ('Hana',), (\"Lil' Bub\",), ('Moe',), ('Patches',), (None,)] \n",
    "\n",
    "SQLite allows us to explicitly state the tableName.columnName you want to select. This is particularly useful when you want data from two different tables.\n",
    "\n",
    "Imagine you have another table called dogs with a column containing all of the dog names:\n",
    "\n",
    "CREATE TABLE dogs (\n",
    "    id INTEGER PRIMARY KEY,\n",
    "    name TEXT\n",
    ");\n",
    "\n",
    "INSERT INTO dogs (name) VALUES (\"Clifford\");\n",
    "\n",
    "If you want to get the names of all the dogs and cats, you can no longer run a query with just the column name. SELECT name FROM cats,dogs; will return Error: ambiguous column name: name.\n",
    "\n",
    "Instead, you must explicitly follow the tableName.columnName syntax.\n",
    "\n",
    "SELECT cats.name, dogs.name FROM cats, dogs;"
   ],
   "cell_type": "markdown",
   "metadata": {}
  },
  {
   "cell_type": "code",
   "execution_count": null,
   "metadata": {},
   "outputs": [],
   "source": []
  },
  {
   "cell_type": "code",
   "execution_count": null,
   "metadata": {},
   "outputs": [],
   "source": [
    "[{Role[{name{position{stats[{Blocks, Kills, Aces}]}}}]}]"
   ]
  },
  {
   "cell_type": "code",
   "execution_count": 173,
   "metadata": {},
   "outputs": [],
   "source": [
    "ListDictListDict = [\n",
    "{'Hitters': [{'Guy': {'Middle': [{'Blocks': 16, 'Kills': 10, 'Aces': 6}]}}, \n",
    "             {'Leo': {'Outside': [{'Blocks': 10, 'Kills': 17, 'Aces': 11}]}},\n",
    "             {'Devon': {'Outside': [{'Blocks':3, 'Kills': 6, 'Aces': 3}]}},\n",
    "             {'Liz': {'Middle': [{'Block': 2, 'Kills': 2, 'Aces': 2}]}}                           ]}, \n",
    "\n",
    "{'Setters': [{'Sarah': {'Setter': [{'Sets': 30}]}}\n",
    "            ]}, \n",
    "\n",
    "{'Libero': [{'Tom': {'Libero': [{'Digs': 20}]}}]\n",
    "            }]"
   ]
  },
  {
   "cell_type": "code",
   "execution_count": 2,
   "metadata": {},
   "outputs": [],
   "source": [
    "Guy = [{'Hitters': [{'Guy': {'Middle': [{'Blocks': 16, 'Kills': 10, 'Aces': 6}]}}]}]"
   ]
  },
  {
   "cell_type": "code",
   "execution_count": 23,
   "metadata": {},
   "outputs": [
    {
     "output_type": "execute_result",
     "data": {
      "text/plain": [
       "17"
      ]
     },
     "metadata": {},
     "execution_count": 23
    }
   ],
   "source": [
    "ListDictListDict[0]['Hitters'][1]['Leo']['Outside'][0]['Kills']"
   ]
  },
  {
   "cell_type": "code",
   "execution_count": 180,
   "metadata": {},
   "outputs": [
    {
     "output_type": "execute_result",
     "data": {
      "text/plain": [
       "dict_items([('Hitters', [{'Guy': {'Middle': [{'Blocks': 16, 'Kills': 10, 'Aces': 6}]}}, {'Leo': {'Outside': [{'Blocks': 10, 'Kills': 17, 'Aces': 11}]}}, {'Devon': {'Outside': [{'Blocks': 3, 'Kills': 6, 'Aces': 3}]}}, {'Liz': {'Middle': [{'Block': 2, 'Kills': 2, 'Aces': 2}]}}])])"
      ]
     },
     "metadata": {},
     "execution_count": 180
    }
   ],
   "source": [
    "Y[0].items()"
   ]
  },
  {
   "cell_type": "code",
   "execution_count": 174,
   "metadata": {},
   "outputs": [
    {
     "output_type": "error",
     "ename": "AttributeError",
     "evalue": "'dict' object has no attribute 'iteritems'",
     "traceback": [
      "\u001b[1;31m---------------------------------------------------------------------------\u001b[0m",
      "\u001b[1;31mAttributeError\u001b[0m                            Traceback (most recent call last)",
      "\u001b[1;32m<ipython-input-174-a4c4311bf835>\u001b[0m in \u001b[0;36m<module>\u001b[1;34m\u001b[0m\n\u001b[0;32m      1\u001b[0m \u001b[0mY\u001b[0m \u001b[1;33m=\u001b[0m \u001b[0mListDictListDict\u001b[0m\u001b[1;33m\u001b[0m\u001b[1;33m\u001b[0m\u001b[0m\n\u001b[1;32m----> 2\u001b[1;33m \u001b[1;32mfor\u001b[0m \u001b[0mkey\u001b[0m\u001b[1;33m,\u001b[0m \u001b[0mvalue\u001b[0m \u001b[1;32min\u001b[0m \u001b[0mY\u001b[0m\u001b[1;33m[\u001b[0m\u001b[1;36m0\u001b[0m\u001b[1;33m]\u001b[0m\u001b[1;33m.\u001b[0m\u001b[0miteritems\u001b[0m\u001b[1;33m(\u001b[0m\u001b[1;33m)\u001b[0m\u001b[1;33m:\u001b[0m\u001b[1;33m\u001b[0m\u001b[1;33m\u001b[0m\u001b[0m\n\u001b[0m\u001b[0;32m      3\u001b[0m     \u001b[0mprint\u001b[0m\u001b[1;33m(\u001b[0m\u001b[1;34m\"{0} = {1}\"\u001b[0m\u001b[1;33m.\u001b[0m\u001b[0mformat\u001b[0m\u001b[1;33m(\u001b[0m\u001b[0mkey\u001b[0m\u001b[1;33m,\u001b[0m \u001b[0mvalue\u001b[0m\u001b[1;33m)\u001b[0m\u001b[1;33m)\u001b[0m\u001b[1;33m\u001b[0m\u001b[1;33m\u001b[0m\u001b[0m\n",
      "\u001b[1;31mAttributeError\u001b[0m: 'dict' object has no attribute 'iteritems'"
     ]
    }
   ],
   "source": [
    "Y = ListDictListDict\n",
    "for key, value in Y[0].iteritems():\n",
    "    print(\"{0} = {1}\".format(key, value))"
   ]
  },
  {
   "source": [
    "When going through a list of dictionaries or vice verse we want to keep an eye on our brackets and curly brackets. Everytime you see a bracket you will need to open it up with an index number, as you are pulling the element out of the list. If it is a dictionary you are going through you want to ask what the keys, values, and items are so that you can better parse where you are going to be going into as you are diving in. Especially in larger dictionaries you need to have an idea of where you are going when the data is too large. "
   ],
   "cell_type": "markdown",
   "metadata": {}
  },
  {
   "cell_type": "code",
   "execution_count": 115,
   "metadata": {},
   "outputs": [],
   "source": [
    "def findkeys():\n",
    "    for x in Y[0].values():\n",
    "        return x "
   ]
  },
  {
   "cell_type": "code",
   "execution_count": 116,
   "metadata": {},
   "outputs": [
    {
     "output_type": "execute_result",
     "data": {
      "text/plain": [
       "[{'Guy': {'Middle': [{'Blocks': 16, 'Kills': 10, 'Aces': 6}]}},\n",
       " {'Leo': {'Outside': [{'Blocks': 10, 'Kills': 17, 'Aces': 11}]}},\n",
       " {'Devon': {'Outside': [{'Blocks': 3, 'Kills': 6, 'Aces': 3}]}},\n",
       " {'Liz': {'Middle': [{'Block': 2, 'Kills': 2, 'Aces': 2}]}}]"
      ]
     },
     "metadata": {},
     "execution_count": 116
    }
   ],
   "source": [
    "findkeys()"
   ]
  },
  {
   "cell_type": "code",
   "execution_count": 151,
   "metadata": {},
   "outputs": [
    {
     "output_type": "stream",
     "name": "stdout",
     "text": [
      "('title', 'The Great Gatsby')\n('author', 'F. Scott Fitzgerald')\n('date_published', 1925)\n('in_stock', True)\n"
     ]
    }
   ],
   "source": [
    "book = {\n",
    "        'title': 'The Great Gatsby',\n",
    "        'author': 'F. Scott Fitzgerald',\n",
    "        'date_published': 1925,\n",
    "        'in_stock': True\n",
    "}\n",
    "\n",
    "for key in book.items():\n",
    "    key[0]\n",
    "    print(key)"
   ]
  },
  {
   "cell_type": "code",
   "execution_count": 134,
   "metadata": {},
   "outputs": [
    {
     "output_type": "error",
     "ename": "AttributeError",
     "evalue": "'str' object has no attribute 'keys'",
     "traceback": [
      "\u001b[1;31m---------------------------------------------------------------------------\u001b[0m",
      "\u001b[1;31mAttributeError\u001b[0m                            Traceback (most recent call last)",
      "\u001b[1;32m<ipython-input-134-9444203069cb>\u001b[0m in \u001b[0;36m<module>\u001b[1;34m\u001b[0m\n\u001b[0;32m      1\u001b[0m \u001b[1;32mfor\u001b[0m \u001b[0mx\u001b[0m \u001b[1;32min\u001b[0m \u001b[0mY\u001b[0m\u001b[1;33m[\u001b[0m\u001b[1;36m0\u001b[0m\u001b[1;33m]\u001b[0m\u001b[1;33m:\u001b[0m\u001b[1;33m\u001b[0m\u001b[1;33m\u001b[0m\u001b[0m\n\u001b[1;32m----> 2\u001b[1;33m     \u001b[0mprint\u001b[0m\u001b[1;33m(\u001b[0m\u001b[0mx\u001b[0m\u001b[1;33m.\u001b[0m\u001b[0mkeys\u001b[0m\u001b[1;33m(\u001b[0m\u001b[1;33m)\u001b[0m\u001b[1;33m,\u001b[0m \u001b[0mY\u001b[0m\u001b[1;33m[\u001b[0m\u001b[0mx\u001b[0m\u001b[1;33m]\u001b[0m\u001b[1;33m)\u001b[0m\u001b[1;33m\u001b[0m\u001b[1;33m\u001b[0m\u001b[0m\n\u001b[0m",
      "\u001b[1;31mAttributeError\u001b[0m: 'str' object has no attribute 'keys'"
     ]
    }
   ],
   "source": [
    "for x in Y:\n",
    "    print(x, Y[x])"
   ]
  },
  {
   "cell_type": "code",
   "execution_count": 126,
   "metadata": {},
   "outputs": [
    {
     "output_type": "stream",
     "name": "stdout",
     "text": [
      "[('Blocks', 16), ('Kills', 10), ('Aces', 6)]\n"
     ]
    }
   ],
   "source": [
    "for x in ListDictListDict[0]['Hitters'][0]['Guy']['Middle']:\n",
    "    y = list(x.items())\n",
    "    #print(x)\n",
    "    print(y)"
   ]
  },
  {
   "cell_type": "code",
   "execution_count": 157,
   "metadata": {},
   "outputs": [
    {
     "output_type": "stream",
     "name": "stdout",
     "text": [
      "{'Guy': {'Middle': [{'Blocks': 16, 'Kills': 10, 'Aces': 6}]}}\n{'Leo': {'Outside': [{'Blocks': 10, 'Kills': 17, 'Aces': 11}]}}\n{'Devon': {'Outside': [{'Blocks': 3, 'Kills': 6, 'Aces': 3}]}}\n{'Liz': {'Middle': [{'Block': 2, 'Kills': 2, 'Aces': 2}]}}\n"
     ]
    }
   ],
   "source": [
    "for x in Y[0]['Hitters']:\n",
    "    print(x)"
   ]
  },
  {
   "cell_type": "code",
   "execution_count": null,
   "metadata": {},
   "outputs": [],
   "source": []
  },
  {
   "cell_type": "code",
   "execution_count": 190,
   "metadata": {},
   "outputs": [],
   "source": [
    "consoles =  {'Microsoft': {'name': 'Xbox', 'price': 500},\n",
    "            'Sony': {'name': 'Playstation', 'price': 550},\n",
    "            'Nintendo': {'name': 'Switch', 'price': 450}}"
   ]
  },
  {
   "cell_type": "code",
   "execution_count": 192,
   "metadata": {},
   "outputs": [
    {
     "output_type": "stream",
     "name": "stdout",
     "text": [
      "Microsoft\nSony\nNintendo\n"
     ]
    }
   ],
   "source": [
    "for z in consoles:\n",
    "    print(z)"
   ]
  },
  {
   "cell_type": "code",
   "execution_count": 191,
   "metadata": {},
   "outputs": [
    {
     "output_type": "stream",
     "name": "stdout",
     "text": [
      "{'name': 'Xbox', 'price': 500}\n{'name': 'Playstation', 'price': 550}\n{'name': 'Switch', 'price': 450}\n"
     ]
    }
   ],
   "source": [
    "for x in consoles:\n",
    "    print(consoles[x])"
   ]
  },
  {
   "cell_type": "code",
   "execution_count": 193,
   "metadata": {},
   "outputs": [
    {
     "output_type": "execute_result",
     "data": {
      "text/plain": [
       "dict_items([('Microsoft', {'name': 'Xbox', 'price': 500}), ('Sony', {'name': 'Playstation', 'price': 550}), ('Nintendo', {'name': 'Switch', 'price': 450})])"
      ]
     },
     "metadata": {},
     "execution_count": 193
    }
   ],
   "source": [
    "consoles.items()"
   ]
  },
  {
   "cell_type": "code",
   "execution_count": 197,
   "metadata": {},
   "outputs": [
    {
     "output_type": "execute_result",
     "data": {
      "text/plain": [
       "dict_keys(['Microsoft', 'Sony', 'Nintendo'])"
      ]
     },
     "metadata": {},
     "execution_count": 197
    }
   ],
   "source": [
    "consoles.keys()"
   ]
  },
  {
   "cell_type": "code",
   "execution_count": 201,
   "metadata": {},
   "outputs": [
    {
     "output_type": "execute_result",
     "data": {
      "text/plain": [
       "dict_values([{'name': 'Xbox', 'price': 500}, {'name': 'Playstation', 'price': 550}, {'name': 'Switch', 'price': 450}])"
      ]
     },
     "metadata": {},
     "execution_count": 201
    }
   ],
   "source": [
    "consoles.values()"
   ]
  },
  {
   "cell_type": "code",
   "execution_count": 196,
   "metadata": {},
   "outputs": [
    {
     "output_type": "stream",
     "name": "stdout",
     "text": [
      "500\n550\n450\n"
     ]
    }
   ],
   "source": [
    "for i in consoles:\n",
    "    print(consoles[i]['price'])"
   ]
  },
  {
   "cell_type": "code",
   "execution_count": 203,
   "metadata": {},
   "outputs": [],
   "source": [
    "consolesexpanded =  {'Microsoft': {'name': ['Xbox', 'Xbox 360', 'Xbox One', 'Xbox X']                    , 'price': 500},\n",
    "                    'Sony': {'name': ['Playstation', 'Playstation 2', 'Playstation                          3', 'Playstation 4', 'Playstation 5'], 'price': 550},\n",
    "                    'Nintendo': {'name': ['N64', 'Gamecube', 'Wii', 'Wii U',                                'Switch'], 'price': 450}}"
   ]
  },
  {
   "cell_type": "code",
   "execution_count": 204,
   "metadata": {},
   "outputs": [],
   "source": [
    "CE = consolesexpanded"
   ]
  },
  {
   "cell_type": "code",
   "execution_count": 205,
   "metadata": {},
   "outputs": [
    {
     "output_type": "stream",
     "name": "stdout",
     "text": [
      "Microsoft\nSony\nNintendo\n"
     ]
    }
   ],
   "source": [
    "for z in CE:\n",
    "    print(z)"
   ]
  },
  {
   "cell_type": "code",
   "execution_count": 210,
   "metadata": {},
   "outputs": [
    {
     "output_type": "stream",
     "name": "stdout",
     "text": [
      "{'name': ['Xbox', 'Xbox 360', 'Xbox One', 'Xbox X'], 'price': 500}\n{'name': ['Playstation', 'Playstation 2', 'Playstation                          3', 'Playstation 4', 'Playstation 5'], 'price': 550}\n{'name': ['N64', 'Gamecube', 'Wii', 'Wii U', 'Switch'], 'price': 450}\n"
     ]
    }
   ],
   "source": [
    "for x in CE:\n",
    "    print(CE[x])"
   ]
  },
  {
   "cell_type": "code",
   "execution_count": 207,
   "metadata": {},
   "outputs": [
    {
     "output_type": "execute_result",
     "data": {
      "text/plain": [
       "dict_items([('Microsoft', {'name': ['Xbox', 'Xbox 360', 'Xbox One', 'Xbox X'], 'price': 500}), ('Sony', {'name': ['Playstation', 'Playstation 2', 'Playstation                          3', 'Playstation 4', 'Playstation 5'], 'price': 550}), ('Nintendo', {'name': ['N64', 'Gamecube', 'Wii', 'Wii U', 'Switch'], 'price': 450})])"
      ]
     },
     "metadata": {},
     "execution_count": 207
    }
   ],
   "source": [
    "CE.items()"
   ]
  },
  {
   "cell_type": "code",
   "execution_count": 208,
   "metadata": {},
   "outputs": [
    {
     "output_type": "stream",
     "name": "stdout",
     "text": [
      "['Xbox', 'Xbox 360', 'Xbox One', 'Xbox X']\n['Playstation', 'Playstation 2', 'Playstation                          3', 'Playstation 4', 'Playstation 5']\n['N64', 'Gamecube', 'Wii', 'Wii U', 'Switch']\n"
     ]
    }
   ],
   "source": [
    "for i in CE:\n",
    "    print(CE[i]['name'])"
   ]
  },
  {
   "cell_type": "code",
   "execution_count": 214,
   "metadata": {},
   "outputs": [
    {
     "output_type": "stream",
     "name": "stdout",
     "text": [
      "Xbox\nPlaystation\nN64\n"
     ]
    }
   ],
   "source": [
    "for i in CE:\n",
    "    print(CE[i]['name'][0])"
   ]
  },
  {
   "cell_type": "code",
   "execution_count": null,
   "metadata": {},
   "outputs": [],
   "source": [
    "for x in CEA[]"
   ]
  },
  {
   "cell_type": "code",
   "execution_count": 331,
   "metadata": {},
   "outputs": [
    {
     "output_type": "stream",
     "name": "stdout",
     "text": [
      "name\nprice\nname\nprice\nname\nprice\n"
     ]
    }
   ],
   "source": [
    "for i in CE:\n",
    "    for x in CE[i]:\n",
    "        print(x)"
   ]
  },
  {
   "cell_type": "code",
   "execution_count": 256,
   "metadata": {},
   "outputs": [],
   "source": [
    "consolesexpandedagain =  {'Microsoft': {'name': ['Xbox', 'Xbox 360', 'Xbox One', 'Xbox X'], 'price': [350, 400, 450, 500]},\n",
    "'Sony': {'name': ['Playstation', 'Playstation 2', 'Playstation 3', 'Playstation 4', 'Playstation 5'], 'price': [350, 400, 450, 500, 550]},\n",
    "'Nintendo': {'name': ['N64', 'Gamecube', 'Wii', 'Wii U',                                'Switch'], 'price': [250, 300, 350, 400, 450]}}\n"
   ]
  },
  {
   "cell_type": "code",
   "execution_count": 330,
   "metadata": {},
   "outputs": [
    {
     "output_type": "execute_result",
     "data": {
      "text/plain": [
       "{'name': ['Xbox', 'Xbox 360', 'Xbox One', 'Xbox X'],\n",
       " 'price': [350, 400, 450, 500]}"
      ]
     },
     "metadata": {},
     "execution_count": 330
    }
   ],
   "source": [
    "CEA['Microsoft']"
   ]
  },
  {
   "cell_type": "code",
   "execution_count": 257,
   "metadata": {},
   "outputs": [],
   "source": [
    "CEA = consolesexpandedagain"
   ]
  },
  {
   "cell_type": "code",
   "execution_count": 321,
   "metadata": {},
   "outputs": [
    {
     "output_type": "execute_result",
     "data": {
      "text/plain": [
       "dict_items([('Microsoft', {'name': ['Xbox', 'Xbox 360', 'Xbox One', 'Xbox X'], 'price': [350, 400, 450, 500]}), ('Sony', {'name': ['Playstation', 'Playstation 2', 'Playstation 3', 'Playstation 4', 'Playstation 5'], 'price': [350, 400, 450, 500, 550]}), ('Nintendo', {'name': ['N64', 'Gamecube', 'Wii', 'Wii U', 'Switch'], 'price': [250, 300, 350, 400, 450]})])"
      ]
     },
     "metadata": {},
     "execution_count": 321
    }
   ],
   "source": [
    "CEA.items()"
   ]
  },
  {
   "cell_type": "code",
   "execution_count": 322,
   "metadata": {},
   "outputs": [
    {
     "output_type": "execute_result",
     "data": {
      "text/plain": [
       "dict_values([{'name': ['Xbox', 'Xbox 360', 'Xbox One', 'Xbox X'], 'price': [350, 400, 450, 500]}, {'name': ['Playstation', 'Playstation 2', 'Playstation 3', 'Playstation 4', 'Playstation 5'], 'price': [350, 400, 450, 500, 550]}, {'name': ['N64', 'Gamecube', 'Wii', 'Wii U', 'Switch'], 'price': [250, 300, 350, 400, 450]}])"
      ]
     },
     "metadata": {},
     "execution_count": 322
    }
   ],
   "source": [
    "CEA.values()"
   ]
  },
  {
   "cell_type": "code",
   "execution_count": 326,
   "metadata": {},
   "outputs": [
    {
     "output_type": "execute_result",
     "data": {
      "text/plain": [
       "dict_keys(['Microsoft', 'Sony', 'Nintendo'])"
      ]
     },
     "metadata": {},
     "execution_count": 326
    }
   ],
   "source": [
    "CEA.keys()"
   ]
  },
  {
   "cell_type": "code",
   "execution_count": 233,
   "metadata": {},
   "outputs": [
    {
     "output_type": "stream",
     "name": "stdout",
     "text": [
      "Microsoft 350\nMicrosoft 400\nMicrosoft 450\nMicrosoft 500\nSony 350\nSony 400\nSony 450\nSony 500\nSony 550\nNintendo 250\nNintendo 300\nNintendo 350\nNintendo 400\nNintendo 450\n"
     ]
    }
   ],
   "source": [
    "for i in CEA:\n",
    "    for x in CEA[i]['price']:\n",
    "        print(i, x)"
   ]
  },
  {
   "cell_type": "code",
   "execution_count": 263,
   "metadata": {},
   "outputs": [
    {
     "output_type": "stream",
     "name": "stdout",
     "text": [
      "Microsoft\nSony\nNintendo\n"
     ]
    }
   ],
   "source": [
    "for x in CEA:\n",
    "    print(x)"
   ]
  },
  {
   "cell_type": "code",
   "execution_count": 266,
   "metadata": {},
   "outputs": [
    {
     "output_type": "stream",
     "name": "stdout",
     "text": [
      "{'name': ['Xbox', 'Xbox 360', 'Xbox One', 'Xbox X'], 'price': [350, 400, 450, 500]}\n{'name': ['Playstation', 'Playstation 2', 'Playstation 3', 'Playstation 4', 'Playstation 5'], 'price': [350, 400, 450, 500, 550]}\n{'name': ['N64', 'Gamecube', 'Wii', 'Wii U', 'Switch'], 'price': [250, 300, 350, 400, 450]}\n"
     ]
    }
   ],
   "source": [
    "\n",
    "for x in CEA:\n",
    "    print(CEA[x])"
   ]
  },
  {
   "cell_type": "code",
   "execution_count": 288,
   "metadata": {},
   "outputs": [
    {
     "output_type": "stream",
     "name": "stdout",
     "text": [
      "('name', ['Xbox', 'Xbox 360', 'Xbox One', 'Xbox X'])\n('price', [350, 400, 450, 500])\n('name', ['Playstation', 'Playstation 2', 'Playstation 3', 'Playstation 4', 'Playstation 5'])\n('price', [350, 400, 450, 500, 550])\n('name', ['N64', 'Gamecube', 'Wii', 'Wii U', 'Switch'])\n('price', [250, 300, 350, 400, 450])\n"
     ]
    }
   ],
   "source": [
    "for i in CEA:\n",
    "    for x in CEA[i].items():\n",
    "        print(x)"
   ]
  },
  {
   "cell_type": "code",
   "execution_count": 296,
   "metadata": {},
   "outputs": [
    {
     "output_type": "stream",
     "name": "stdout",
     "text": [
      "['Xbox', 'Xbox 360', 'Xbox One', 'Xbox X']\n[350, 400, 450, 500]\n['Playstation', 'Playstation 2', 'Playstation 3', 'Playstation 4', 'Playstation 5']\n[350, 400, 450, 500, 550]\n['N64', 'Gamecube', 'Wii', 'Wii U', 'Switch']\n[250, 300, 350, 400, 450]\n"
     ]
    }
   ],
   "source": [
    "for i in CEA:\n",
    "    for x in CEA[i].values():\n",
    "        print(x)"
   ]
  },
  {
   "cell_type": "code",
   "execution_count": 304,
   "metadata": {},
   "outputs": [
    {
     "output_type": "stream",
     "name": "stdout",
     "text": [
      "['Xbox', 'Xbox 360', 'Xbox One', 'Xbox X']\n[350, 400, 450, 500]\n['Playstation', 'Playstation 2', 'Playstation 3', 'Playstation 4', 'Playstation 5']\n[350, 400, 450, 500, 550]\n['N64', 'Gamecube', 'Wii', 'Wii U', 'Switch']\n[250, 300, 350, 400, 450]\n"
     ]
    }
   ],
   "source": [
    "#games = []\n",
    "for i in CEA:    \n",
    "    for x in CEA[i].items():\n",
    "        print(x[1])\n",
    "        #games.append(x[1])"
   ]
  },
  {
   "cell_type": "code",
   "execution_count": 337,
   "metadata": {},
   "outputs": [
    {
     "output_type": "stream",
     "name": "stdout",
     "text": [
      "Xbox\nXbox 360\nXbox One\nXbox X\nPlaystation\nPlaystation 2\nPlaystation 3\nPlaystation 4\nPlaystation 5\nN64\nGamecube\nWii\nWii U\nSwitch\n"
     ]
    }
   ],
   "source": [
    "for i in CEA:\n",
    "    for x in CEA[i]['name']:\n",
    "        print(x)"
   ]
  },
  {
   "cell_type": "code",
   "execution_count": 308,
   "metadata": {},
   "outputs": [
    {
     "output_type": "stream",
     "name": "stdout",
     "text": [
      "<class 'int'>\n<class 'int'>\n<class 'int'>\n<class 'int'>\n<class 'int'>\n<class 'int'>\n<class 'int'>\n<class 'int'>\n<class 'int'>\n<class 'int'>\n<class 'int'>\n<class 'int'>\n<class 'int'>\n<class 'int'>\n"
     ]
    }
   ],
   "source": [
    "for i in CEA:\n",
    "    for x in CEA[i]['price']:\n",
    "        print(type(x))\n"
   ]
  },
  {
   "cell_type": "code",
   "execution_count": 309,
   "metadata": {},
   "outputs": [
    {
     "output_type": "stream",
     "name": "stdout",
     "text": [
      "<class 'str'>\n<class 'str'>\n<class 'str'>\n<class 'str'>\n<class 'str'>\n<class 'str'>\n<class 'str'>\n<class 'str'>\n<class 'str'>\n<class 'str'>\n<class 'str'>\n<class 'str'>\n<class 'str'>\n<class 'str'>\n"
     ]
    }
   ],
   "source": [
    "for i in CEA:\n",
    "    for x in CEA[i]['name']:\n",
    "        print(type(x))"
   ]
  },
  {
   "cell_type": "code",
   "execution_count": 340,
   "metadata": {},
   "outputs": [
    {
     "output_type": "stream",
     "name": "stdout",
     "text": [
      "['Xbox', 'Xbox 360', 'Xbox One', 'Xbox X']\n['Playstation', 'Playstation 2', 'Playstation 3', 'Playstation 4', 'Playstation 5']\n['N64', 'Gamecube', 'Wii', 'Wii U', 'Switch']\n"
     ]
    }
   ],
   "source": [
    "for x in CEA:\n",
    "    print(CEA[x]['name'])\n",
    "    \n"
   ]
  },
  {
   "cell_type": "code",
   "execution_count": 345,
   "metadata": {},
   "outputs": [
    {
     "output_type": "execute_result",
     "data": {
      "text/plain": [
       "[['Xbox', 'Xbox 360', 'Xbox One', 'Xbox X'],\n",
       " ['Playstation',\n",
       "  'Playstation 2',\n",
       "  'Playstation 3',\n",
       "  'Playstation 4',\n",
       "  'Playstation 5'],\n",
       " ['N64', 'Gamecube', 'Wii', 'Wii U', 'Switch']]"
      ]
     },
     "metadata": {},
     "execution_count": 345
    }
   ],
   "source": [
    "[CEA[x]['name'] for x in CEA]"
   ]
  },
  {
   "cell_type": "code",
   "execution_count": 310,
   "metadata": {},
   "outputs": [],
   "source": [
    "consoleprices = []\n",
    "for i in CEA:\n",
    "    for x in CEA[i]['price']:\n",
    "        consoleprices.append(x)"
   ]
  },
  {
   "cell_type": "code",
   "execution_count": 347,
   "metadata": {},
   "outputs": [
    {
     "output_type": "stream",
     "name": "stdout",
     "text": [
      "<class 'list'>\n"
     ]
    }
   ],
   "source": [
    "print(type(CEA['Sony']['name']))"
   ]
  },
  {
   "cell_type": "code",
   "execution_count": 311,
   "metadata": {},
   "outputs": [
    {
     "output_type": "execute_result",
     "data": {
      "text/plain": [
       "[350, 400, 450, 500, 350, 400, 450, 500, 550, 250, 300, 350, 400, 450]"
      ]
     },
     "metadata": {},
     "execution_count": 311
    }
   ],
   "source": [
    "consoleprices"
   ]
  },
  {
   "cell_type": "code",
   "execution_count": 312,
   "metadata": {},
   "outputs": [],
   "source": [
    "consolenames = []\n",
    "for i in CEA:\n",
    "    for x in CEA[i]['name']:\n",
    "        consolenames.append(x)"
   ]
  },
  {
   "cell_type": "code",
   "execution_count": 313,
   "metadata": {},
   "outputs": [
    {
     "output_type": "execute_result",
     "data": {
      "text/plain": [
       "['Xbox',\n",
       " 'Xbox 360',\n",
       " 'Xbox One',\n",
       " 'Xbox X',\n",
       " 'Playstation',\n",
       " 'Playstation 2',\n",
       " 'Playstation 3',\n",
       " 'Playstation 4',\n",
       " 'Playstation 5',\n",
       " 'N64',\n",
       " 'Gamecube',\n",
       " 'Wii',\n",
       " 'Wii U',\n",
       " 'Switch']"
      ]
     },
     "metadata": {},
     "execution_count": 313
    }
   ],
   "source": [
    "consolenames"
   ]
  },
  {
   "cell_type": "code",
   "execution_count": 317,
   "metadata": {},
   "outputs": [],
   "source": [
    "def merge(list_1, list_2):\n",
    "\n",
    "    merged_list = tuple(zip(consolenames, consoleprices))\n",
    "    return merged_list"
   ]
  },
  {
   "cell_type": "code",
   "execution_count": 320,
   "metadata": {},
   "outputs": [
    {
     "output_type": "execute_result",
     "data": {
      "text/plain": [
       "(('Xbox', 350),\n",
       " ('Xbox 360', 400),\n",
       " ('Xbox One', 450),\n",
       " ('Xbox X', 500),\n",
       " ('Playstation', 350),\n",
       " ('Playstation 2', 400),\n",
       " ('Playstation 3', 450),\n",
       " ('Playstation 4', 500),\n",
       " ('Playstation 5', 550),\n",
       " ('N64', 250),\n",
       " ('Gamecube', 300),\n",
       " ('Wii', 350),\n",
       " ('Wii U', 400),\n",
       " ('Switch', 450))"
      ]
     },
     "metadata": {},
     "execution_count": 320
    }
   ],
   "source": [
    "merge(consolenames, consoleprices)"
   ]
  },
  {
   "cell_type": "code",
   "execution_count": null,
   "metadata": {},
   "outputs": [],
   "source": [
    "def pets_older_than(groomer_info, age):\n",
    "    age_name = []\n",
    "    for k,v in groomer_info['pets'][0].items():\n",
    "        for d in v:\n",
    "            if d['age'] > age:\n",
    "                age_name.append(k)\n",
    "    return age_name\n"
   ]
  },
  {
   "cell_type": "code",
   "execution_count": null,
   "metadata": {},
   "outputs": [],
   "source": []
  },
  {
   "cell_type": "code",
   "execution_count": null,
   "metadata": {},
   "outputs": [],
   "source": [
    "DictDict =  {'Hitters':  {'Leo': {'Outside': {'Blocks': 10}}}}, \n",
    "            {'Setters': {'Sarah': {'Setter': {'Sets': 30}}}}, \n",
    "            {'Libero': {'Tom': {'Libero': {'Digs': 20}}}}"
   ]
  },
  {
   "cell_type": "code",
   "execution_count": 169,
   "metadata": {},
   "outputs": [
    {
     "output_type": "execute_result",
     "data": {
      "text/plain": [
       "{'Libero': {'Tom': {'Libero': {'Digs': 20}}}}"
      ]
     },
     "metadata": {},
     "execution_count": 169
    }
   ],
   "source": [
    "DictListDict = {'Hitters': [{'Guy': {'Middle': [{'Blocks': 16, 'Kills': 10, 'Aces': 6}]}}, \n",
    "             {'Leo': {'Outside': [{'Blocks': 10, 'Kills': 17, 'Aces': 11}]}},\n",
    "             {'Devon': {'Outside': [{'Blocks':3, 'Kills': 6, 'Aces': 3}]}},\n",
    "             {'Liz': {'Middle': [{'Block': 2, 'Kills': 2, 'Aces': 2}]}}                           ]}, \n",
    "\n",
    "{'Setters': {'Sarah': {'Setter': {'Sets': 30}}}\n",
    "            }, \n",
    "\n",
    "{'Libero': {'Tom': {'Libero': {'Digs': 20}}}\n",
    "            }"
   ]
  },
  {
   "cell_type": "code",
   "execution_count": 170,
   "metadata": {},
   "outputs": [
    {
     "output_type": "execute_result",
     "data": {
      "text/plain": [
       "({'Hitters': [{'Guy': {'Middle': [{'Blocks': 16, 'Kills': 10, 'Aces': 6}]}},\n",
       "   {'Leo': {'Outside': [{'Blocks': 10, 'Kills': 17, 'Aces': 11}]}},\n",
       "   {'Devon': {'Outside': [{'Blocks': 3, 'Kills': 6, 'Aces': 3}]}},\n",
       "   {'Liz': {'Middle': [{'Block': 2, 'Kills': 2, 'Aces': 2}]}}]},)"
      ]
     },
     "metadata": {},
     "execution_count": 170
    }
   ],
   "source": [
    "DictListDict"
   ]
  },
  {
   "cell_type": "code",
   "execution_count": 172,
   "metadata": {},
   "outputs": [
    {
     "output_type": "error",
     "ename": "AttributeError",
     "evalue": "'tuple' object has no attribute 'keys'",
     "traceback": [
      "\u001b[1;31m---------------------------------------------------------------------------\u001b[0m",
      "\u001b[1;31mAttributeError\u001b[0m                            Traceback (most recent call last)",
      "\u001b[1;32m<ipython-input-172-effaac072c86>\u001b[0m in \u001b[0;36m<module>\u001b[1;34m\u001b[0m\n\u001b[1;32m----> 1\u001b[1;33m \u001b[0mDictListDict\u001b[0m\u001b[1;33m.\u001b[0m\u001b[0mkeys\u001b[0m\u001b[1;33m\u001b[0m\u001b[1;33m\u001b[0m\u001b[0m\n\u001b[0m",
      "\u001b[1;31mAttributeError\u001b[0m: 'tuple' object has no attribute 'keys'"
     ]
    }
   ],
   "source": [
    "DictListDict.keys"
   ]
  },
  {
   "cell_type": "code",
   "execution_count": null,
   "metadata": {},
   "outputs": [],
   "source": []
  }
 ]
}