{
 "cells": [
  {
   "cell_type": "markdown",
   "metadata": {},
   "source": [
    "# Instructions:"
   ]
  },
  {
   "cell_type": "markdown",
   "metadata": {},
   "source": [
    "## Getting Started\n",
    "In this exercise, we will be using data from `rolling stone's top 500 albums`. We have this data contained in the `data.csv` file. We will be building out the following functions to answer questions and interact with this data.\n",
    "\n",
    "> **remember:** reading from a csv file in python looks like the following:\n",
    "\n",
    "```python \n",
    "import csv\n",
    "\n",
    "    with open(file_name) as f:\n",
    "        # we are using DictReader because we want our information to be in dictionary format.\n",
    "        reader = csv.DictReader(f)\n",
    "        # some more code\n",
    "```\n",
    "\n",
    "Once we have our `reader` reading our file as dictionaries, we want our data to be a list of dictionaries. So, we need to loop through our `reader` and create a list. *hint: list comprehension / for loops are your friend\"\n",
    "\n",
    "```python\n",
    "# our data will look something like this once we have read it and turned it into a list of `OrderedDict`s\n",
    "# don't worry, the ordered dicts look different but we can interact with them the same way we do normal dicts\n",
    "[OrderedDict([('number', '1'), ('year', '1967'), ('album', \"Sgt. Pepper's Lonely Hearts Club Band\"), ('artist', 'The Beatles'), ('genre', 'Rock'), ('subgenre', 'Rock & Roll, Psychedelic Rock')]), OrderedDict([('number', '2'), ('year', '1966'), ('album', 'Pet Sounds'), ('artist', 'The Beach Boys'), ('genre', 'Rock'), ('subgenre', 'Pop Rock, Psychedelic Rock')]), OrderedDict([('number', '3'), ('year', '1966'), ('album', 'Revolver'), ('artist', 'The Beatles'), ('genre', 'Rock'), ('subgenre', 'Psychedelic Rock, Pop Rock')])]\n",
    "```\n",
    "\n",
    "After we have our data formated the way we want it, we can now begin working on defining our functions."
   ]
  },
  {
   "cell_type": "code",
   "execution_count": 1,
   "metadata": {},
   "outputs": [
    {
     "ename": "ImportError",
     "evalue": "cannot import name 'album_name'",
     "output_type": "error",
     "traceback": [
      "\u001b[0;31m---------------------------------------------------------------------------\u001b[0m",
      "\u001b[0;31mImportError\u001b[0m                               Traceback (most recent call last)",
      "\u001b[0;32m<ipython-input-1-9cee312650a8>\u001b[0m in \u001b[0;36m<module>\u001b[0;34m()\u001b[0m\n\u001b[1;32m      2\u001b[0m \u001b[0mget_ipython\u001b[0m\u001b[0;34m(\u001b[0m\u001b[0;34m)\u001b[0m\u001b[0;34m.\u001b[0m\u001b[0mmagic\u001b[0m\u001b[0;34m(\u001b[0m\u001b[0;34m'autoreload 2'\u001b[0m\u001b[0;34m)\u001b[0m\u001b[0;34m\u001b[0m\u001b[0;34m\u001b[0m\u001b[0m\n\u001b[1;32m      3\u001b[0m \u001b[0;34m\u001b[0m\u001b[0m\n\u001b[0;32m----> 4\u001b[0;31m \u001b[0;32mfrom\u001b[0m \u001b[0mfunctions\u001b[0m \u001b[0;32mimport\u001b[0m \u001b[0malbum_name\u001b[0m\u001b[0;34m\u001b[0m\u001b[0;34m\u001b[0m\u001b[0m\n\u001b[0m",
      "\u001b[0;31mImportError\u001b[0m: cannot import name 'album_name'"
     ]
    }
   ],
   "source": [
    "%load_ext autoreload\n",
    "%autoreload 2 \n",
    "\n",
    "from functions import album_name"
   ]
  },
  {
   "cell_type": "code",
   "execution_count": null,
   "metadata": {},
   "outputs": [],
   "source": [
    "import csv  #imports a cvs file"
   ]
  },
  {
   "cell_type": "code",
   "execution_count": null,
   "metadata": {},
   "outputs": [],
   "source": [
    "top_500_albums = []      #creates top 500 albums list\n",
    "\n",
    "with open('data.csv') as read_file:      #open the data as a read file\n",
    "    albums = csv.DictReader(read_file)   #sets the data file as albums \n",
    "\n",
    "    for album in albums:                  #for each album in the data file\n",
    "        top_500_albums.append(album)      #add it to the top 500 albums list "
   ]
  },
  {
   "cell_type": "code",
   "execution_count": null,
   "metadata": {},
   "outputs": [],
   "source": [
    "top_500_albums[25] #return the top 25 entries from out list"
   ]
  },
  {
   "cell_type": "markdown",
   "metadata": {},
   "source": [
    "\n",
    "### Functions to build-out:\n",
    "\n",
    "Each of the following functions can be defined in the `functions.py` file. \n",
    "\n",
    "* **Searching functions**\n",
    "  * Find by name - Takes in a string that represents the name of an album. Should return a dictionary with the correct album, or return `None`.\n",
    "  * Find by rank - Takes in a number that represents the rank in the list of top albums and returns the album with that rank. If there is no album with that rank, it returns `None`.\n",
    "  * Find by year - Takes in a number for the year in which an album was released and returns a list of albums that were released in that year. If there are no albums released in the given year, it returns an empty list.\n",
    "  * Find by years - Takes in a start year and end year. Returns a list of all albums that were released on or between the start and end years. If no albums are found for those years, then an empty list is returned. \n",
    "  * Find by ranks - Takes in a start rank and end rank. Returns a list of albums that are ranked between the start and end ranks. If no albums are found for those ranks, then an empty list is returned.\n",
    "* **All functions**\n",
    "  * All titles - Returns a list of titles for each album.\n",
    "  * All artists - Returns a list of artist names for each album.\n",
    "* **Questions to answer / functions**\n",
    "  * Artists with the most albums - Returns the artist with the highest amount of albums on the list of top albums \n",
    "  * Most popular word - Returns the word used most in amongst all album titles\n",
    "  * Histogram of albums by decade - Returns a histogram with each decade pointing to the number of albums released during that decade.\n",
    "  * Histogram by genre - Returns a histogram with each genre pointing to the number of albums that are categorized as being in that genre."
   ]
  },
  {
   "cell_type": "code",
   "execution_count": null,
   "metadata": {},
   "outputs": [],
   "source": [
    "def album_name(name):                 #creates a funtion called album\n",
    "    for album in top_500_albums:      #that calls a for loop that for each album in our top_500_albums list \n",
    "        if album['album'] == name:    #if that album title is equal to the name of the album that is entered\n",
    "            return album              #if the album is found return \n",
    "        else:\n",
    "            None                      #otherwise return none\n",
    "album_name('Revolve') #calls the function on a test entry. "
   ]
  },
  {
   "cell_type": "code",
   "execution_count": null,
   "metadata": {},
   "outputs": [],
   "source": [
    "def album_rank(rank):                 #creates a function called album rank \n",
    "    for album in top_500_albums:      #thats calls a for loop that for each album in our top 500\n",
    "        if album['number'] == rank:   #if that albums rank is equal to the rank entered\n",
    "            return album              #will return the album\n",
    "        else:          \n",
    "            False                     #otherwise return none\n",
    "\n",
    "album_rank('2')    #calls the function on a test entry"
   ]
  },
  {
   "cell_type": "code",
   "execution_count": null,
   "metadata": {},
   "outputs": [],
   "source": [
    "def album_year(year):                     #creates a function called album year \n",
    "    album_x_years=[]                      # creates a new empty list \n",
    "    for album in top_500_albums:          #calls a for loop that for each album in our top 500 list\n",
    "        if album['year'] == year:         #if the album year matches the one entered\n",
    "            album_x_years.append(album)   #adds that album to our new list\n",
    "    return album_x_years                  #and return that new list now appended\n",
    "\n",
    "album_year('1955')  #calls this function"
   ]
  },
  {
   "cell_type": "code",
   "execution_count": null,
   "metadata": {},
   "outputs": [],
   "source": [
    "def album_year_range(startyear, endyear):     #creates a function called album_year_range \n",
    "    album_rangex_years=[]\n",
    "    for album in top_500_albums:\n",
    "        if int(album['year']) >= startyear and int(album['year']) <= endyear:\n",
    "            album_rangex_years.append(album)\n",
    "    return album_rangex_years\n",
    "album_year_range(1966, 1969)"
   ]
  },
  {
   "cell_type": "code",
   "execution_count": null,
   "metadata": {},
   "outputs": [],
   "source": [
    "def album_start_rank(startrank, endrank):\n",
    "    album_start_rank=[]\n",
    "    for album in top_500_albums:\n",
    "        if int(album['number']) >= startrank and int(album['number']) <= endrank:\n",
    "            album_start_rank.append(album)\n",
    "    return album_start_rank\n",
    "album_start_rank(2, 4)"
   ]
  },
  {
   "cell_type": "code",
   "execution_count": null,
   "metadata": {},
   "outputs": [],
   "source": [
    "#All title - return a list of titles for each album  \n",
    "list_titles = []\n",
    "for d in top_500_albums: \n",
    "    list_titles.append(d['album']) \n",
    "list_titles[:5]"
   ]
  },
  {
   "cell_type": "code",
   "execution_count": null,
   "metadata": {},
   "outputs": [],
   "source": [
    "#All artist - return a list of all artist for each album \n",
    "list_o_artists = [d['artist'] for d in top_500_albums]\n",
    "list_o_artists[:5]"
   ]
  },
  {
   "cell_type": "code",
   "execution_count": null,
   "metadata": {
    "scrolled": false
   },
   "outputs": [],
   "source": [
    "# Artists with the most albums - Returns the artist with the highest amount of albums on the list of top albums \n",
    "top_artist = {}          #create an empty dictionary\n",
    "for lartist in list_o_artists:  #starts a fuction loop for each artist (known as lartist) in the list of artist\n",
    "    if lartist not in top_artist: \n",
    "        top_artist[lartist]=1 \n",
    "    else: \n",
    "        top_artist[lartist]+=1 \n",
    "\n",
    "sorted_artist = sorted(top_artist.items(), key= lambda x: x[1], reverse=True) #sorts our list by the key in desc order\n",
    "\n",
    "#def top_top_artist(List):  #this returns one artist and it was something we tried\n",
    "#    return max(set(List), key = List.count)\n",
    "#top_top_artist(list_o_artists) \n",
    "\n",
    "sorted_artist[:5] #calls the top 5 from the list"
   ]
  },
  {
   "cell_type": "code",
   "execution_count": null,
   "metadata": {},
   "outputs": [],
   "source": [
    "highest = max(top_artist.values()) #find thes max values. \n",
    "\n",
    "print([k for k, v in top_artist.items() if v == highest]) "
   ]
  },
  {
   "cell_type": "code",
   "execution_count": null,
   "metadata": {},
   "outputs": [],
   "source": [
    "list_of_words=[] # creates a list \n",
    "for album in top_500_albums: #splits the album names into individual word \n",
    "    list_of_words.extend([word.lower() for word in album['album'].split()]) \n",
    "\n",
    "list_of_words"
   ]
  },
  {
   "cell_type": "code",
   "execution_count": null,
   "metadata": {},
   "outputs": [],
   "source": [
    "flat_list = [] #creates an empty list \n",
    "for word in list_of_words: #pull each word from each list in or list of words add it to this list \n",
    "    for item in word:\n",
    "        flat_list.append(item)\n",
    "\n",
    "flat_list\n"
   ]
  },
  {
   "cell_type": "code",
   "execution_count": null,
   "metadata": {},
   "outputs": [],
   "source": [
    "flatlist_lower = [word.lower() for word in flat_list]"
   ]
  },
  {
   "cell_type": "code",
   "execution_count": null,
   "metadata": {},
   "outputs": [],
   "source": [
    "most_pop_word = {}          #create an empty dictionary\n",
    "for pword in list_of_words:  #starts a fuction loop for each word to this new list and add a count\n",
    "    if pword not in most_pop_word: \n",
    "        most_pop_word[pword]=1 \n",
    "    else: \n",
    "        most_pop_word[pword]+=1 \n",
    "\n",
    "sorted_pwords = sorted(most_pop_word.items(), key= lambda x: x[1], reverse=True) #sorts our list by the key in desc order \n",
    "\n",
    "sorted_pwords"
   ]
  },
  {
   "cell_type": "code",
   "execution_count": null,
   "metadata": {},
   "outputs": [],
   "source": [
    "def most_popular_word(list):  #defines a function \n",
    "    return max(set(list), key = list.count) #taking the count of the key and returning the highest value \n",
    "most_popular_word(flat_list)"
   ]
  },
  {
   "cell_type": "code",
   "execution_count": null,
   "metadata": {},
   "outputs": [],
   "source": [
    "highest2 = max(most_pop_word.values()) #find thes max values. \n",
    "\n",
    "print([k for k, v in most_pop_word.items() if v == highest2]) #prints the key for key, value combo in given list if the value is the highest number as defined prev "
   ]
  },
  {
   "cell_type": "code",
   "execution_count": null,
   "metadata": {},
   "outputs": [],
   "source": [
    "album_years = [int(d['year']) for d in top_500_albums] #pull all the years from all albums, turn them into an integer, and return them to a single list\n",
    "\n",
    "years_decades = [ (year//10)*10 for year in album_years ] #take the year and divide by 10 and times it by 10 for each year in our years list "
   ]
  },
  {
   "cell_type": "code",
   "execution_count": null,
   "metadata": {},
   "outputs": [],
   "source": [
    "import matplotlib.pyplot as plt  #imports matplotlib\n",
    "%matplotlib inline\n",
    "\n",
    "fig, ax = plt.subplots(figsize=(10,5))     #creates a figure subplot with stated size \n",
    "\n",
    "ax.hist(years_decades, bins=7, edgecolor='black') #that is a histogram with 7 bin and an black outline\n",
    "ax.set_title('Number of Albums by Decade')  #sets the histogram title\n",
    "ax.set_xlabel('Decades')  #sets the label for the x axis\n",
    "ax.set_ylabel('Number of Albums') #sets the label for 7 value\n"
   ]
  },
  {
   "cell_type": "code",
   "execution_count": null,
   "metadata": {},
   "outputs": [],
   "source": [
    "album_genre = [(d['genre']) for d in top_500_albums]  #compiles the genres for each album into one list \n",
    "\n",
    "album_genre_bins = {}          #create an empty dictionary\n",
    "for genre in album_genre:  #starts a fuction loop for each genre in our data set \n",
    "    if genre not in album_genre_bins: #if the genre is not in our list\n",
    "        album_genre_bins[genre]=1  #add it with a count of 1 \n",
    "    else: \n",
    "        album_genre_bins[genre]+=1 #otherwise increase the count by 1 \n",
    "        \n",
    "sorted_genre_bins = sorted(album_genre_bins.items(), key= lambda x: x[1], reverse=True) #sorts the list album genre list bins int desc order\n",
    "        \n",
    "sorted_genre_bins[:10] #calls the top 10 of sorted genre bins list"
   ]
  },
  {
   "cell_type": "code",
   "execution_count": null,
   "metadata": {},
   "outputs": [],
   "source": [
    "#Histogram by genre - Returns a histogram with each genre pointing to the number of albums that are categorized as being in that genre. \n",
    "\n",
    "fig, ax = plt.subplots(figsize=(18,8))     #creates a new fig with an explicit size\n",
    "\n",
    "genre_hist1=ax.hist(album_genre, bins=7, edgecolor='black') #designates the fig as a histogram with 7 bins and black edge color using using the original created full list of genres\n",
    "ax.set_title('Number of Albums by Genre') #sets the title for this figure\n",
    "ax.set_xlabel('Decades') #sets the x axis label\n",
    "ax.set_ylabel('Number of Albums') #sets the y axis label\n"
   ]
  },
  {
   "cell_type": "code",
   "execution_count": null,
   "metadata": {},
   "outputs": [],
   "source": [
    "sorted_album_genre = sorted(album_genre_bins.items(), key=lambda x: x[1], reverse=True) #sorts our album genre bins and put in desc order \n",
    "S = sorted_album_genre[:15] #assigns our sorted list to a variable\n",
    "top_15_genre = [k for k,v in S] #for every key in the key,value combo return the key \n",
    "top_15_genre  #calls the list created above"
   ]
  },
  {
   "cell_type": "code",
   "execution_count": null,
   "metadata": {},
   "outputs": [],
   "source": [
    "top_15_count = [v for k,v in S] #for every value for in the key,value pair return the value\n",
    "top_15_count     #calls the above list"
   ]
  },
  {
   "cell_type": "code",
   "execution_count": null,
   "metadata": {},
   "outputs": [],
   "source": [
    "fig, ax = plt.subplots(figsize =(18,8)) #create a figure and sets an explicit size\n",
    "ax.barh(top_15_genre, top_15_count, color='magenta', edgecolor ='black') #designates our figure as a bar chart with our top 15 genres list as the y values and top 15 count as the x values also sets a main and edge color\n",
    "ax.set_title('Top 15 Genres of Top 500 Albums',size = 18) #sets our bar chart title and title size\n",
    "ax.set_xlabel('Count', size = 15) #labels our bar chart x axis \n",
    "ax.set_ylabel('Genre', size = 15) #labels our bar chart y axis"
   ]
  },
  {
   "cell_type": "markdown",
   "metadata": {},
   "source": [
    "## Next Steps"
   ]
  },
  {
   "cell_type": "code",
   "execution_count": null,
   "metadata": {},
   "outputs": [],
   "source": [
    "text_file = open('top-500-songs.txt', 'r')\n",
    "lines = text_file.readlines()\n",
    "\n",
    "print(lines[:4])"
   ]
  },
  {
   "cell_type": "code",
   "execution_count": null,
   "metadata": {},
   "outputs": [],
   "source": [
    "#list_lines=[line.split('\\t') for line in lines] # splits the line at the 't' and returns the list in that line\n",
    "#list_lines[:5] #old code not being used left here for ref"
   ]
  },
  {
   "cell_type": "code",
   "execution_count": null,
   "metadata": {},
   "outputs": [],
   "source": [
    "list_line_new =[]       #creates a new list \n",
    "for line in lines:   #creates a for loop that for each str line in our list\n",
    "    list_line_new.append(line.strip()) #we remove the /n which is called an of strings line string\n",
    "list_line_new\n",
    "list_lines=[line.split('\\t') for line in list_line_new] #removes the /t from (that represent a new string line) from all list in our list of list \n",
    "list_lines[:5] #calls our list "
   ]
  },
  {
   "cell_type": "code",
   "execution_count": null,
   "metadata": {
    "scrolled": true
   },
   "outputs": [],
   "source": [
    "top_500_songs = []    #Creates an empty list\n",
    "\n",
    "for line in list_lines:         #Creates a for loop where for all lists (in our list of lists) in the given list it assign them to a dictionary as follows:\n",
    "    list_line_dict = {'rank':line[0],            #the first item in the given list as the rank\n",
    "                        'name':line[1],          #the second item as the name \n",
    "                        'artist':line[2],        #the third item as the artist\n",
    "                        'year': int(line[3])}          # the fourth item as year as an integer\n",
    "    top_500_songs.append(list_line_dict)    #adds the newly created dictionaries to our new list\n",
    "    \n",
    "top_500_songs[:3]       #returns the created dictionary of list"
   ]
  },
  {
   "cell_type": "markdown",
   "metadata": {},
   "source": [
    "Now that we have our functions querying our Album data, let's compare that data with the top 500 songs. We have another file -- a text file! -- that contains the data we need for the top 500 songs. Reading a text file is pretty similar to reading a csv file, however, it tends to need a bit more massaging to get your data formatted the way you want it.\n",
    "\n",
    "```python\n",
    "    # open the text file in read\n",
    "    text_file = open('top-500-songs.txt', 'r')\n",
    "    # read each line of the text file\n",
    "    # here is where you can print out the lines to your terminal and get an idea \n",
    "    # for how you might think about re-formatting the data\n",
    "    lines = text_file.readlines()\n",
    "\n",
    "    print(lines)\n",
    "    # the output will look something like this:\n",
    "['1\\tLike a Rolling Stone\\tBob Dylan\\t1965\\n', '2\\tSatisfaction\\tThe Rolling Stones\\t1965\\n', '3\\tImagine\\tJohn Lennon\\t1971\\n', \"4\\tWhat's Going On\\tMarvin Gaye\\t1971\\n\", '5\\tRespect\\tAretha Franklin\\t1967\\n', '6\\tGood Vibrations\\tThe Beach Boys\\t1966\\n', '7\\tJohnny B. Goode\\tChuck Berry\\t1958\\n', '8\\tHey Jude\\tThe Beatles\\t1968\\n', ...]\n",
    "```\n",
    "\n",
    "It looks like `\\t` is how the text file is separating each element on a line. So, we need a function that can separate a string into a list. Then we can tell this function on what to split our string (i.e. `\\t`). From there we will have a list of lists that are formatted like the following:\n",
    "```python\n",
    "[\"RANK\", \"NAME\", \"ARTIST\", \"YEAR\"]\n",
    "```\n",
    "We need to use our knowledge of iterating to go through each of these elements and turn them into dictionaries with the keys, \"rank\", \"name\", \"artist\", \"year\", pointing to the appropriate values. So, for song number 1, we want it to look like:\n",
    "```python\n",
    "{'rank': 1, 'name': \"Like a Rolling Stone\", 'artist'\"Bob Dylan\": , 'year': 1965}\n",
    "```\n",
    "\n",
    "Once we have a list of songs that are formatted like the above, we can move on to figuring out which songs are from the top albums and which albums and artists have the most 'top songs'."
   ]
  },
  {
   "cell_type": "code",
   "execution_count": null,
   "metadata": {},
   "outputs": [],
   "source": [
    "def song_name(name):          #defines a function that\n",
    "    for song in top_500_songs:   #for each song in our song list\n",
    "        if song['name'] == name: #compares the name of the song in song list to the entred song name\n",
    "            return song        #and if it matches returns entire song dictionary\n",
    "        else:\n",
    "            False            #otherwise returns none\n",
    "song_name('Hey Jude')   #calls this function"
   ]
  },
  {
   "cell_type": "code",
   "execution_count": null,
   "metadata": {},
   "outputs": [],
   "source": [
    "def song_rank(rank):                  #define a function that\n",
    "    for song in top_500_songs:        #for each song in our song list \n",
    "        if song['rank'] == rank:      #compares the ranks in our songs list to the rank given\n",
    "            return song               #and returns a match if one is found\n",
    "        else:\n",
    "            False                     #otherwise returns none\n",
    "\n",
    "song_rank('2')         #calls this function"
   ]
  },
  {
   "cell_type": "code",
   "execution_count": null,
   "metadata": {},
   "outputs": [],
   "source": [
    "def song_year(year):                    #defines a function that\n",
    "    song_x_years=[]                     #create a new list\n",
    "    for song in top_500_songs:          #and uses a for loop to iterate thru all songs in song list\n",
    "        if song['year'] == year:        #comparing all the years in our list to the given year\n",
    "            song_x_years.append(song)   #and if there is a match, adds it to our new list \n",
    "    return song_x_years                 #and then returns our new song list once all relevant songs have been added\n",
    "\n",
    "song_year(1966)      #calls this function"
   ]
  },
  {
   "cell_type": "code",
   "execution_count": null,
   "metadata": {},
   "outputs": [],
   "source": [
    "def song_year_range(startyear, endyear):    #calls a function that\n",
    "    song_rangex_years=[]                    #creates a new list\n",
    "    for song in top_500_songs:              #for each song in our song lists\n",
    "        if song['year'] >= startyear and song['year'] <= endyear: #iterates thru all years looking for matches that are the same as our given start year and end year\n",
    "            song_rangex_years.append(song)   #if there is match it will add it to our newly created list\n",
    "    return song_rangex_years                 #returns our new list \n",
    "song_year_range(1966, 1968)       #calls this function"
   ]
  },
  {
   "cell_type": "code",
   "execution_count": null,
   "metadata": {},
   "outputs": [],
   "source": [
    "def song_start_rank(startrank, endrank): #calls a function \n",
    "    song_start_rank=[]      #that creates a new list\n",
    "    for song in top_500_songs:    #where for each song in our songs list\n",
    "        if int(song['rank']) >= startrank and int(song['rank']) <= endrank: #compares the song rank to the given start and rank \n",
    "            song_start_rank.append(song) #if a match is the same as or between the start and rank adds it to our new list\n",
    "    return song_start_rank #returns our new song list\n",
    "song_start_rank(2, 7) #calls this function"
   ]
  },
  {
   "cell_type": "code",
   "execution_count": null,
   "metadata": {},
   "outputs": [],
   "source": [
    "list_song_titles = []                    #creates a new list\n",
    "for d in top_500_songs:                  # creats a for loop where for each variable 'd' in our song list \n",
    "    list_song_titles.append(d['name'])   #adds the song name only to our new list\n",
    "list_song_titles[:5]    #calls our new list"
   ]
  },
  {
   "cell_type": "code",
   "execution_count": null,
   "metadata": {},
   "outputs": [],
   "source": [
    "list_song_artist = []                      #creates a new list\n",
    "for a in top_500_songs:                    #creates a for loop where for each variable 'a' in our song list\n",
    "    list_song_artist.append(a['artist'])   #adds the artist name to our new list\n",
    "list_song_artist[:5] #calls our new list"
   ]
  },
  {
   "cell_type": "code",
   "execution_count": null,
   "metadata": {},
   "outputs": [],
   "source": [
    "list_songs = [song['name'] for song in top_500_songs]   #does the same as above in a list comprehension for the song name\n",
    "list_songs[:5]      "
   ]
  },
  {
   "cell_type": "code",
   "execution_count": null,
   "metadata": {
    "scrolled": true
   },
   "outputs": [],
   "source": [
    "list_artist = [song['artist'] for song in top_500_songs] #does the same as above in a list comprehension for the artist name\n",
    "list_artist[:5]"
   ]
  },
  {
   "cell_type": "code",
   "execution_count": null,
   "metadata": {},
   "outputs": [],
   "source": [
    "top_song_artist = {}                           #creates a new dictionary \n",
    "for artist in list_artist:                     #creates a for loop that for each artist in our list_artist list\n",
    "    if artist not in top_song_artist:          #if an artist is not on the list\n",
    "        top_song_artist[artist]=1              #creates an entry for the artist with a count of 1\n",
    "    else: \n",
    "        top_song_artist[artist]+=1             #otherwise if the artist is on the list increases the count by 1\n",
    "\n",
    "\n",
    "top_song_artist_sorted = sorted(top_song_artist.items(), key= lambda x: x[1], reverse=True) #sorts our list by the count value in dec order\n",
    "\n",
    "\n",
    "top_song_artist_sorted[:3] #calls our list"
   ]
  },
  {
   "cell_type": "code",
   "execution_count": null,
   "metadata": {},
   "outputs": [],
   "source": [
    "highest = max(top_song_artist.values())   #defines the variable \"highest\" as the number equal to the highest number in our top number of songs artist list\n",
    "print([k for k, v in top_song_artist.items() if v == highest]) #prints the name of the artist(s) who name match the number value of \"highest\""
   ]
  },
  {
   "cell_type": "code",
   "execution_count": null,
   "metadata": {},
   "outputs": [],
   "source": [
    "list_of_songs=[]       #creates a new list \n",
    "for word in top_500_songs:    #a for loop that for each variable[word] that is in our top songs list\n",
    "    list_of_songs.append(word['name'].split()) #splits the words into separate objects in a list and add those list to our new list\n",
    "list_of_songs[4]     #calls the list"
   ]
  },
  {
   "cell_type": "code",
   "execution_count": null,
   "metadata": {},
   "outputs": [],
   "source": [
    "flat_list_song = []   #creates a new list\n",
    "for word in list_of_songs: #for loop that for each variable[word] that is in of our list of songs\n",
    "    for item in word:      #pulls each word in individual lists \n",
    "        flat_list_song.append(item) #and adds them to our new list\n",
    "flat_list_song[:5] #calls a list "
   ]
  },
  {
   "cell_type": "code",
   "execution_count": null,
   "metadata": {},
   "outputs": [],
   "source": [
    "top_word_song = {}     #creates a new dictionary\n",
    "for word in flat_list_song:  #where for each word in our flat list of songs\n",
    "    if word not in top_word_song: #if the word is not in our top list of words\n",
    "        top_word_song[word]=1    #adds them to our new dictionary with a count value of 1\n",
    "    else: \n",
    "        top_word_song[word]+=1 #otherwise adds 1 to the count value\n",
    "top_word_song #calls dictionary"
   ]
  },
  {
   "cell_type": "code",
   "execution_count": null,
   "metadata": {},
   "outputs": [],
   "source": [
    "highest2 = max(top_word_song.values())  #defines the variable highest2 as the max value from our song word count list\n",
    "print([key for key, value in top_word_song.items() if value == highest2]) #prints the word whos frequency count matches our highest2 value"
   ]
  },
  {
   "cell_type": "markdown",
   "metadata": {},
   "source": [
    "### Working with the top 500 songs"
   ]
  },
  {
   "cell_type": "markdown",
   "metadata": {},
   "source": [
    "If we can't already re-use our searching functions (i.e. Find by name, Find by rank, Find by year, Find by years, Find by ranks), all functions (i.e. all titles, all artists), and questions-to-answer functions (i.e. Artists with the most albums (or songs), Most popular word, Histogram by decade, Histogram by genre) with the song data we just formatted, then refactor these functions so that they can be used with either set of data. This is a good practice for ensuring that our code is as reusable and modular as possible, which is important when writing code for any project, especially when it comes time to scale a project. Things are easier to read, and there is less code to worry about (and more importantly there is less code to debug when something goes wrong).\n",
    "\n",
    "Once we have our functions working for both sets of data, we can start writing new functions!\n",
    "\n",
    "Luckily for us, this next dataset is already made for us. We were curious to find out which songs on the top 500 songs overlapped with the top albums and vice versa. So, we created a data set that is a list of dictionaries in JSON format. Each dictionary contains the name of the artist, the album, and the tracks (songs) on that given album. We can use this data to check which songs on the top 500 list are featured on the albums on the top albums list.\n",
    "\n",
    "To load our JSON file we will write:\n",
    "\n",
    "```python\n",
    "import json\n",
    "\n",
    "file = open('track_data.json', 'r')\n",
    "json_data = json.load(file)\n",
    "\n",
    "print(json_data)\n",
    "# output will look like this:\n",
    "[{'artist': 'The Beatles', 'album': \"Sgt. Pepper's Lonely Hearts Club Band\", 'tracks': [\"Sgt. Pepper's Lonely Hearts Club Band - Remix\", 'With A Little Help From My Friends - Remix', 'Lucy In The Sky With Diamonds - Remix', 'Getting Better - Remix', 'Fixing A Hole - Remix', \"She's Leaving Home - Remix\", 'Being For The Benefit Of Mr. Kite! - Remix', 'Within You Without You - Remix', \"When I'm Sixty-Four - Remix\", 'Lovely Rita - Remix', 'Good Morning Good Morning - Remix', \"Sgt. Pepper's Lonely Hearts Club Band (Reprise) - Remix\", 'A Day In The Life - Remix', \"Sgt. Pepper's Lonely Hearts Club Band - Take 9 And Speech\", 'With A Little Help From My Friends - Take 1 / False Start And Take 2 / Instrumental', 'Lucy In The Sky With Diamonds - Take 1', 'Getting Better - Take 1 / Instrumental And Speech At The End', 'Fixing A Hole - Speech And Take 3', \"She's Leaving Home - Take 1 / Instrumental\", 'Being For The Benefit Of Mr. Kite! - Take 4', 'Within You Without You - Take 1 / Indian Instruments', \"When I'm Sixty-Four - Take 2\", 'Lovely Rita - Speech And Take 9', 'Good Morning Good Morning - Take 8', \"Sgt. Pepper's Lonely Hearts Club Band (Reprise) - Speech And Take 8\", 'A Day In The Life - Take 1 With Hums', 'Strawberry Fields Forever - Take 7', 'Strawberry Fields Forever - Take 26', 'Strawberry Fields Forever - Stereo Mix 2015', 'Penny Lane - Take 6 / Instrumental', 'Penny Lane - Stereo Mix 2017']}, {'artist': 'The Beach Boys', 'album': 'Pet Sounds', 'tracks': [\"Wouldn't It Be Nice - Digitally Remastered 96\", 'You Still Believe In Me - Digitally Remastered 96', \"That's Not Me - 1996 Digital Remaster\", \"Don't Talk (Put Your Head On My Shoulder) - 1996 Digital Remaster\", \"I'm Waiting For The Day - Digitally Remastered 96\", \"Let's Go Away For Awhile - Digitally Remastered 96\", 'Sloop John B - 1996 - Remaster', 'God Only Knows - 1997 - Remaster', \"I Know There's An Answer - Digitally Remastered 96\", 'Here Today - Digitally Remastered 96', \"I Just Wasn't Made For These Times - Digitally Remastered 96\", 'Pet Sounds - Digitally Remastered 96', 'Caroline, No - 1996 Digital Remaster', 'Hang On To Your Ego', \"Wouldn't It Be Nice - 2000 - Remaster\", 'You Still Believe In Me - 1996 Digital Remaster', \"That's Not Me - 1996 Digital Remaster\", \"Don't Talk (Put Your Head On My Shoulder) - 1996 Digital Remaster\", \"I'm Waiting For The Day - 1996 Digital Remaster\", \"Let's Go Away For Awhile - 1996 Digital Remaster\", 'Sloop John B - 1996 Digital Remaster', 'God Only Knows - 1996 Digital Remaster', \"I Know There's An Answer - 1996 Digital Remaster\", 'Here Today - 1996 Digital Remaster', \"I Just Wasn't Made For These Times - 1996 Digital Remaster\", 'Pet Sounds - 1996 Digital Remaster', 'Caroline, No - 1996 Digital Remaster']}, {'artist': 'The Beatles', 'album': 'Revolver', 'tracks': ['Taxman - Remastered', 'Eleanor Rigby - Remastered', \"I'm Only Sleeping - Remastered\", 'Love You To - Remastered', 'Here, There And Everywhere - Remastered', 'Yellow Submarine - Remastered', 'She Said She Said - Remastered', 'Good Day Sunshine - Remastered', 'And Your Bird Can Sing - Remastered', 'For No One - Remastered', 'Doctor Robert - Remastered', 'I Want To Tell You - Remastered', 'Got To Get You Into My Life - Remastered', 'Tomorrow Never Knows - Remastered']}, {'artist': 'Bob Dylan', 'album': 'Highway 61 Revisited', 'tracks': ['Like a Rolling Stone', 'Tombstone Blues', 'It Takes a Lot to Laugh, It Takes a Train to Cry', 'From a Buick 6', 'Ballad of a Thin Man', 'Queen Jane Approximately', 'Highway 61 Revisited', \"Just Like Tom Thumb's Blues\", 'Desolation Row']}, ...]\n",
    "```"
   ]
  },
  {
   "cell_type": "code",
   "execution_count": null,
   "metadata": {},
   "outputs": [],
   "source": [
    "import json\n",
    "\n",
    "file = open('track_data.json', 'r')\n",
    "json_data = json.load(file)\n",
    "\n",
    "print(json_data)"
   ]
  },
  {
   "cell_type": "code",
   "execution_count": null,
   "metadata": {},
   "outputs": [],
   "source": [
    "json_data[0]"
   ]
  },
  {
   "cell_type": "markdown",
   "metadata": {},
   "source": [
    "### Define the following functions:\n",
    "\n",
    "**albumWithMostTopSongs** - returns the name of the artist and album that has that most songs featured on the top 500 songs list\n",
    "\n",
    "**albumsWithTopSongs** - returns a list with the name of only the albums that have tracks featured on the list of top 500 songs\n",
    "\n",
    "**songsThatAreOnTopAlbums** - returns a list with the name of only the songs featured on the list of top albums\n",
    "\n",
    "**top10AlbumsByTopSongs** - returns a histogram with the 10 albums that have the most songs that appear in the top songs list. The album names should point to the number of songs that appear on the top 500 songs list.\n",
    "\n",
    "**topOverallArtist** - Artist featured with the most songs and albums on the two lists. This means that if Brittany Spears had 3 of her albums featured on the top albums listed and 10 of her songs featured on the top songs, she would have a total of 13. The artist with the highest aggregate score would be the top overall artist."
   ]
  },
  {
   "cell_type": "code",
   "execution_count": null,
   "metadata": {},
   "outputs": [],
   "source": [
    "#Returns the name of the artist and album if the song is features on the top 500 list\n",
    "\n",
    "for track in top_500_songs: #for each track in our top 500 songs list\n",
    "    if track in #if that track is in in th"
   ]
  },
  {
   "cell_type": "code",
   "execution_count": null,
   "metadata": {},
   "outputs": [],
   "source": []
  }
 ],
 "metadata": {
  "kernelspec": {
   "display_name": "Python 3",
   "language": "python",
   "name": "python3"
  },
  "language_info": {
   "codemirror_mode": {
    "name": "ipython",
    "version": 3
   },
   "file_extension": ".py",
   "mimetype": "text/x-python",
   "name": "python",
   "nbconvert_exporter": "python",
   "pygments_lexer": "ipython3",
   "version": "3.6.9"
  }
 },
 "nbformat": 4,
 "nbformat_minor": 2
}
