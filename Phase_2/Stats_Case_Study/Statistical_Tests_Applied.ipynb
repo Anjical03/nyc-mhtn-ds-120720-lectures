{
 "cells": [
  {
   "cell_type": "markdown",
   "metadata": {},
   "source": [
    "# Case Background & Key Questions\t\n",
    "\n",
    "Flatiron Health Insurance (FHI) is a growing private healthcare insurance provider founded on the premise that using data and analytics can improve the health insurance industry by providing better care and offerings to its patients. Every year, the Center for Disease Control (CDC) conducts surveys to understand the latest demographic, health, and fitness trends. You have been tasked with analyzing the recently published results of this year's survey and providing your recommendations back to the Chief Analytics Officer and Chief Marketing Officer. You have been assigned the task of taking a first look at the data and beginning to answer several key questions:\n",
    "\t\t\t\t\t\t\t\t\t\t\t \t\t\t\t\t\t\t\t\n",
    "1)  How does health status, represented by average number of days with bad physical health in the past month (PHYSHLTH), differ by state? Also provide an indication of distribution using whatever statistics you find suitable.\n",
    " \t\t\t\t\t\t\t\t\t\t\t\t \t\t\t\t\t\t\t\t\n",
    "2)  Digging deeper into the data, what are some factors that impact health (i.e. demographics, behaviors, previous illness, etc.)?\t\n",
    "\t\t\t\t\t\t \t\t\t\t\t\t\n",
    "To get you started, the IT department formatted the data set into a tab delimited text file for only NY, NJ, and CT (FHI’s primary markets) called `case_study.csv`. Below you will find a list of steps/questions that you will need to take in your investigation. The first part of the notebook will be focused on cleaning up your data and visualizing it.  The second part of the data set will be focused on performing statistical tests to make statements with statistical significance.  \n"
   ]
  },
  {
   "cell_type": "markdown",
   "metadata": {},
   "source": [
    "Before you begin writing your code to clean up this data in Pandas, I necourage you to watch the following video that explains the most efficient way to clean data in pandas.\n",
    "\n",
    "https://www.youtube.com/watch?v=nxWginnBklU&feature=youtu.be\n",
    "\n",
    "Also, here is a link to his notebook of sample code.  \n",
    "https://gitlab.com/cheevahagadog/talks-demos-n-such/tree/master/PyGotham2019"
   ]
  },
  {
   "cell_type": "code",
   "execution_count": 1,
   "metadata": {},
   "outputs": [],
   "source": [
    "import pandas as pd\n",
    "import matplotlib.pyplot as plt\n",
    "import numpy as np\n",
    "%matplotlib inline"
   ]
  },
  {
   "cell_type": "markdown",
   "metadata": {},
   "source": [
    "# pd.read_csv('case_study.csv')"
   ]
  },
  {
   "cell_type": "code",
   "execution_count": 82,
   "metadata": {},
   "outputs": [],
   "source": [
    "#Load our dataframe account for the index columns\n",
    "df = pd.read_csv('case_study.csv', index_col=0, low_memory=False) #pulls in the data csv from the save folder as this notebook \n",
    "#pd.set_option('display.max_columns', 360) #expands the max number of viewable row"
   ]
  },
  {
   "cell_type": "code",
   "execution_count": 83,
   "metadata": {},
   "outputs": [
    {
     "data": {
      "text/html": [
       "<div>\n",
       "<style scoped>\n",
       "    .dataframe tbody tr th:only-of-type {\n",
       "        vertical-align: middle;\n",
       "    }\n",
       "\n",
       "    .dataframe tbody tr th {\n",
       "        vertical-align: top;\n",
       "    }\n",
       "\n",
       "    .dataframe thead th {\n",
       "        text-align: right;\n",
       "    }\n",
       "</style>\n",
       "<table border=\"1\" class=\"dataframe\">\n",
       "  <thead>\n",
       "    <tr style=\"text-align: right;\">\n",
       "      <th></th>\n",
       "      <th>_STATE</th>\n",
       "      <th>FMONTH</th>\n",
       "      <th>IDATE</th>\n",
       "      <th>IMONTH</th>\n",
       "      <th>IDAY</th>\n",
       "      <th>IYEAR</th>\n",
       "      <th>DISPCODE</th>\n",
       "      <th>SEQNO</th>\n",
       "      <th>_PSU</th>\n",
       "      <th>CTELENM1</th>\n",
       "      <th>...</th>\n",
       "      <th>_PA300R2</th>\n",
       "      <th>_PA30021</th>\n",
       "      <th>_PASTRNG</th>\n",
       "      <th>_PAREC1</th>\n",
       "      <th>_PASTAE1</th>\n",
       "      <th>_RFSEAT2</th>\n",
       "      <th>_RFSEAT3</th>\n",
       "      <th>_FLSHOT6</th>\n",
       "      <th>_PNEUMO2</th>\n",
       "      <th>_AIDTST3</th>\n",
       "    </tr>\n",
       "  </thead>\n",
       "  <tbody>\n",
       "    <tr>\n",
       "      <th>49938</th>\n",
       "      <td>9.0</td>\n",
       "      <td>5.0</td>\n",
       "      <td>5172017</td>\n",
       "      <td>5</td>\n",
       "      <td>17</td>\n",
       "      <td>2017</td>\n",
       "      <td>1200.0</td>\n",
       "      <td>2017000001</td>\n",
       "      <td>2.017000e+09</td>\n",
       "      <td>NaN</td>\n",
       "      <td>...</td>\n",
       "      <td>2.0</td>\n",
       "      <td>2.0</td>\n",
       "      <td>2.0</td>\n",
       "      <td>4.0</td>\n",
       "      <td>2.0</td>\n",
       "      <td>1.0</td>\n",
       "      <td>1.0</td>\n",
       "      <td>NaN</td>\n",
       "      <td>NaN</td>\n",
       "      <td>1.0</td>\n",
       "    </tr>\n",
       "    <tr>\n",
       "      <th>49939</th>\n",
       "      <td>9.0</td>\n",
       "      <td>2.0</td>\n",
       "      <td>2142017</td>\n",
       "      <td>2</td>\n",
       "      <td>14</td>\n",
       "      <td>2017</td>\n",
       "      <td>1200.0</td>\n",
       "      <td>2017000002</td>\n",
       "      <td>2.017000e+09</td>\n",
       "      <td>NaN</td>\n",
       "      <td>...</td>\n",
       "      <td>1.0</td>\n",
       "      <td>1.0</td>\n",
       "      <td>1.0</td>\n",
       "      <td>1.0</td>\n",
       "      <td>1.0</td>\n",
       "      <td>2.0</td>\n",
       "      <td>2.0</td>\n",
       "      <td>NaN</td>\n",
       "      <td>NaN</td>\n",
       "      <td>2.0</td>\n",
       "    </tr>\n",
       "    <tr>\n",
       "      <th>49940</th>\n",
       "      <td>9.0</td>\n",
       "      <td>1.0</td>\n",
       "      <td>1292017</td>\n",
       "      <td>1</td>\n",
       "      <td>29</td>\n",
       "      <td>2017</td>\n",
       "      <td>1200.0</td>\n",
       "      <td>2017000003</td>\n",
       "      <td>2.017000e+09</td>\n",
       "      <td>NaN</td>\n",
       "      <td>...</td>\n",
       "      <td>3.0</td>\n",
       "      <td>2.0</td>\n",
       "      <td>1.0</td>\n",
       "      <td>3.0</td>\n",
       "      <td>2.0</td>\n",
       "      <td>1.0</td>\n",
       "      <td>1.0</td>\n",
       "      <td>NaN</td>\n",
       "      <td>NaN</td>\n",
       "      <td>2.0</td>\n",
       "    </tr>\n",
       "    <tr>\n",
       "      <th>49941</th>\n",
       "      <td>9.0</td>\n",
       "      <td>7.0</td>\n",
       "      <td>9112017</td>\n",
       "      <td>9</td>\n",
       "      <td>11</td>\n",
       "      <td>2017</td>\n",
       "      <td>1200.0</td>\n",
       "      <td>2017000004</td>\n",
       "      <td>2.017000e+09</td>\n",
       "      <td>NaN</td>\n",
       "      <td>...</td>\n",
       "      <td>2.0</td>\n",
       "      <td>2.0</td>\n",
       "      <td>2.0</td>\n",
       "      <td>2.0</td>\n",
       "      <td>2.0</td>\n",
       "      <td>1.0</td>\n",
       "      <td>1.0</td>\n",
       "      <td>NaN</td>\n",
       "      <td>NaN</td>\n",
       "      <td>1.0</td>\n",
       "    </tr>\n",
       "    <tr>\n",
       "      <th>49942</th>\n",
       "      <td>9.0</td>\n",
       "      <td>5.0</td>\n",
       "      <td>7182017</td>\n",
       "      <td>7</td>\n",
       "      <td>18</td>\n",
       "      <td>2017</td>\n",
       "      <td>1200.0</td>\n",
       "      <td>2017000005</td>\n",
       "      <td>2.017000e+09</td>\n",
       "      <td>NaN</td>\n",
       "      <td>...</td>\n",
       "      <td>2.0</td>\n",
       "      <td>2.0</td>\n",
       "      <td>1.0</td>\n",
       "      <td>1.0</td>\n",
       "      <td>1.0</td>\n",
       "      <td>1.0</td>\n",
       "      <td>1.0</td>\n",
       "      <td>NaN</td>\n",
       "      <td>NaN</td>\n",
       "      <td>2.0</td>\n",
       "    </tr>\n",
       "  </tbody>\n",
       "</table>\n",
       "<p>5 rows × 358 columns</p>\n",
       "</div>"
      ],
      "text/plain": [
       "       _STATE  FMONTH    IDATE  IMONTH  IDAY  IYEAR  DISPCODE       SEQNO  \\\n",
       "49938     9.0     5.0  5172017       5    17   2017    1200.0  2017000001   \n",
       "49939     9.0     2.0  2142017       2    14   2017    1200.0  2017000002   \n",
       "49940     9.0     1.0  1292017       1    29   2017    1200.0  2017000003   \n",
       "49941     9.0     7.0  9112017       9    11   2017    1200.0  2017000004   \n",
       "49942     9.0     5.0  7182017       7    18   2017    1200.0  2017000005   \n",
       "\n",
       "               _PSU  CTELENM1  ...  _PA300R2  _PA30021  _PASTRNG  _PAREC1  \\\n",
       "49938  2.017000e+09       NaN  ...       2.0       2.0       2.0      4.0   \n",
       "49939  2.017000e+09       NaN  ...       1.0       1.0       1.0      1.0   \n",
       "49940  2.017000e+09       NaN  ...       3.0       2.0       1.0      3.0   \n",
       "49941  2.017000e+09       NaN  ...       2.0       2.0       2.0      2.0   \n",
       "49942  2.017000e+09       NaN  ...       2.0       2.0       1.0      1.0   \n",
       "\n",
       "       _PASTAE1  _RFSEAT2  _RFSEAT3  _FLSHOT6  _PNEUMO2  _AIDTST3  \n",
       "49938       2.0       1.0       1.0       NaN       NaN       1.0  \n",
       "49939       1.0       2.0       2.0       NaN       NaN       2.0  \n",
       "49940       2.0       1.0       1.0       NaN       NaN       2.0  \n",
       "49941       2.0       1.0       1.0       NaN       NaN       1.0  \n",
       "49942       1.0       1.0       1.0       NaN       NaN       2.0  \n",
       "\n",
       "[5 rows x 358 columns]"
      ]
     },
     "execution_count": 83,
     "metadata": {},
     "output_type": "execute_result"
    }
   ],
   "source": [
    "df.head()"
   ]
  },
  {
   "cell_type": "code",
   "execution_count": 84,
   "metadata": {},
   "outputs": [
    {
     "data": {
      "text/plain": [
       "(34545, 358)"
      ]
     },
     "execution_count": 84,
     "metadata": {},
     "output_type": "execute_result"
    }
   ],
   "source": [
    "# Quickly check to see the size of our DF, both rows and columns\n",
    "df.shape #shows the shape of our data set"
   ]
  },
  {
   "cell_type": "code",
   "execution_count": 85,
   "metadata": {},
   "outputs": [],
   "source": [
    "df.rename (columns={'_STATE':'state', 'PHYSHLTH': 'physical_health', 'SMOKDAY2': 'smoking'}, inplace = True) # renames 3 of our columns in our data frame"
   ]
  },
  {
   "cell_type": "code",
   "execution_count": 86,
   "metadata": {},
   "outputs": [],
   "source": [
    "conditions = [df['state'] == 9., df['state'] == 34., df['state'] == 36.] #connects the state to these values \n",
    "choices = ['Connecticut', 'New Jersey', 'New York'] #sets the state name options \n",
    "df['state'] = np.select(conditions, choices, default = 'NA') #links these state names to the associatd number"
   ]
  },
  {
   "cell_type": "code",
   "execution_count": 87,
   "metadata": {},
   "outputs": [
    {
     "data": {
      "text/plain": [
       "88.0    21296\n",
       "30.0     2438\n",
       "2.0      1993\n",
       "1.0      1538\n",
       "3.0      1187\n",
       "5.0      1092\n",
       "10.0      751\n",
       "7.0       641\n",
       "15.0      640\n",
       "4.0       622\n",
       "77.0      493\n",
       "20.0      402\n",
       "14.0      326\n",
       "99.0      305\n",
       "6.0       187\n",
       "25.0      159\n",
       "8.0        99\n",
       "21.0       70\n",
       "12.0       69\n",
       "28.0       57\n",
       "29.0       35\n",
       "27.0       22\n",
       "18.0       19\n",
       "16.0       16\n",
       "17.0       15\n",
       "9.0        15\n",
       "22.0       12\n",
       "13.0       10\n",
       "19.0       10\n",
       "11.0        8\n",
       "24.0        7\n",
       "26.0        7\n",
       "23.0        4\n",
       "Name: physical_health, dtype: int64"
      ]
     },
     "execution_count": 87,
     "metadata": {},
     "output_type": "execute_result"
    }
   ],
   "source": [
    "df['physical_health'].value_counts() #counts the number of instances of each number in our dataset in the physical health column"
   ]
  },
  {
   "cell_type": "code",
   "execution_count": 88,
   "metadata": {},
   "outputs": [
    {
     "data": {
      "text/html": [
       "<div>\n",
       "<style scoped>\n",
       "    .dataframe tbody tr th:only-of-type {\n",
       "        vertical-align: middle;\n",
       "    }\n",
       "\n",
       "    .dataframe tbody tr th {\n",
       "        vertical-align: top;\n",
       "    }\n",
       "\n",
       "    .dataframe thead th {\n",
       "        text-align: right;\n",
       "    }\n",
       "</style>\n",
       "<table border=\"1\" class=\"dataframe\">\n",
       "  <thead>\n",
       "    <tr style=\"text-align: right;\">\n",
       "      <th></th>\n",
       "      <th>state</th>\n",
       "      <th>FMONTH</th>\n",
       "      <th>IDATE</th>\n",
       "      <th>IMONTH</th>\n",
       "      <th>IDAY</th>\n",
       "      <th>IYEAR</th>\n",
       "      <th>DISPCODE</th>\n",
       "      <th>SEQNO</th>\n",
       "      <th>_PSU</th>\n",
       "      <th>CTELENM1</th>\n",
       "      <th>...</th>\n",
       "      <th>_PA300R2</th>\n",
       "      <th>_PA30021</th>\n",
       "      <th>_PASTRNG</th>\n",
       "      <th>_PAREC1</th>\n",
       "      <th>_PASTAE1</th>\n",
       "      <th>_RFSEAT2</th>\n",
       "      <th>_RFSEAT3</th>\n",
       "      <th>_FLSHOT6</th>\n",
       "      <th>_PNEUMO2</th>\n",
       "      <th>_AIDTST3</th>\n",
       "    </tr>\n",
       "  </thead>\n",
       "  <tbody>\n",
       "    <tr>\n",
       "      <th>49938</th>\n",
       "      <td>Connecticut</td>\n",
       "      <td>5.0</td>\n",
       "      <td>5172017</td>\n",
       "      <td>5</td>\n",
       "      <td>17</td>\n",
       "      <td>2017</td>\n",
       "      <td>1200.0</td>\n",
       "      <td>2017000001</td>\n",
       "      <td>2.017000e+09</td>\n",
       "      <td>NaN</td>\n",
       "      <td>...</td>\n",
       "      <td>2.0</td>\n",
       "      <td>2.0</td>\n",
       "      <td>2.0</td>\n",
       "      <td>4.0</td>\n",
       "      <td>2.0</td>\n",
       "      <td>1.0</td>\n",
       "      <td>1.0</td>\n",
       "      <td>NaN</td>\n",
       "      <td>NaN</td>\n",
       "      <td>1.0</td>\n",
       "    </tr>\n",
       "    <tr>\n",
       "      <th>49939</th>\n",
       "      <td>Connecticut</td>\n",
       "      <td>2.0</td>\n",
       "      <td>2142017</td>\n",
       "      <td>2</td>\n",
       "      <td>14</td>\n",
       "      <td>2017</td>\n",
       "      <td>1200.0</td>\n",
       "      <td>2017000002</td>\n",
       "      <td>2.017000e+09</td>\n",
       "      <td>NaN</td>\n",
       "      <td>...</td>\n",
       "      <td>1.0</td>\n",
       "      <td>1.0</td>\n",
       "      <td>1.0</td>\n",
       "      <td>1.0</td>\n",
       "      <td>1.0</td>\n",
       "      <td>2.0</td>\n",
       "      <td>2.0</td>\n",
       "      <td>NaN</td>\n",
       "      <td>NaN</td>\n",
       "      <td>2.0</td>\n",
       "    </tr>\n",
       "    <tr>\n",
       "      <th>49940</th>\n",
       "      <td>Connecticut</td>\n",
       "      <td>1.0</td>\n",
       "      <td>1292017</td>\n",
       "      <td>1</td>\n",
       "      <td>29</td>\n",
       "      <td>2017</td>\n",
       "      <td>1200.0</td>\n",
       "      <td>2017000003</td>\n",
       "      <td>2.017000e+09</td>\n",
       "      <td>NaN</td>\n",
       "      <td>...</td>\n",
       "      <td>3.0</td>\n",
       "      <td>2.0</td>\n",
       "      <td>1.0</td>\n",
       "      <td>3.0</td>\n",
       "      <td>2.0</td>\n",
       "      <td>1.0</td>\n",
       "      <td>1.0</td>\n",
       "      <td>NaN</td>\n",
       "      <td>NaN</td>\n",
       "      <td>2.0</td>\n",
       "    </tr>\n",
       "    <tr>\n",
       "      <th>49941</th>\n",
       "      <td>Connecticut</td>\n",
       "      <td>7.0</td>\n",
       "      <td>9112017</td>\n",
       "      <td>9</td>\n",
       "      <td>11</td>\n",
       "      <td>2017</td>\n",
       "      <td>1200.0</td>\n",
       "      <td>2017000004</td>\n",
       "      <td>2.017000e+09</td>\n",
       "      <td>NaN</td>\n",
       "      <td>...</td>\n",
       "      <td>2.0</td>\n",
       "      <td>2.0</td>\n",
       "      <td>2.0</td>\n",
       "      <td>2.0</td>\n",
       "      <td>2.0</td>\n",
       "      <td>1.0</td>\n",
       "      <td>1.0</td>\n",
       "      <td>NaN</td>\n",
       "      <td>NaN</td>\n",
       "      <td>1.0</td>\n",
       "    </tr>\n",
       "    <tr>\n",
       "      <th>49942</th>\n",
       "      <td>Connecticut</td>\n",
       "      <td>5.0</td>\n",
       "      <td>7182017</td>\n",
       "      <td>7</td>\n",
       "      <td>18</td>\n",
       "      <td>2017</td>\n",
       "      <td>1200.0</td>\n",
       "      <td>2017000005</td>\n",
       "      <td>2.017000e+09</td>\n",
       "      <td>NaN</td>\n",
       "      <td>...</td>\n",
       "      <td>2.0</td>\n",
       "      <td>2.0</td>\n",
       "      <td>1.0</td>\n",
       "      <td>1.0</td>\n",
       "      <td>1.0</td>\n",
       "      <td>1.0</td>\n",
       "      <td>1.0</td>\n",
       "      <td>NaN</td>\n",
       "      <td>NaN</td>\n",
       "      <td>2.0</td>\n",
       "    </tr>\n",
       "  </tbody>\n",
       "</table>\n",
       "<p>5 rows × 358 columns</p>\n",
       "</div>"
      ],
      "text/plain": [
       "             state  FMONTH    IDATE  IMONTH  IDAY  IYEAR  DISPCODE  \\\n",
       "49938  Connecticut     5.0  5172017       5    17   2017    1200.0   \n",
       "49939  Connecticut     2.0  2142017       2    14   2017    1200.0   \n",
       "49940  Connecticut     1.0  1292017       1    29   2017    1200.0   \n",
       "49941  Connecticut     7.0  9112017       9    11   2017    1200.0   \n",
       "49942  Connecticut     5.0  7182017       7    18   2017    1200.0   \n",
       "\n",
       "            SEQNO          _PSU  CTELENM1  ...  _PA300R2  _PA30021  _PASTRNG  \\\n",
       "49938  2017000001  2.017000e+09       NaN  ...       2.0       2.0       2.0   \n",
       "49939  2017000002  2.017000e+09       NaN  ...       1.0       1.0       1.0   \n",
       "49940  2017000003  2.017000e+09       NaN  ...       3.0       2.0       1.0   \n",
       "49941  2017000004  2.017000e+09       NaN  ...       2.0       2.0       2.0   \n",
       "49942  2017000005  2.017000e+09       NaN  ...       2.0       2.0       1.0   \n",
       "\n",
       "       _PAREC1  _PASTAE1  _RFSEAT2  _RFSEAT3  _FLSHOT6  _PNEUMO2  _AIDTST3  \n",
       "49938      4.0       2.0       1.0       1.0       NaN       NaN       1.0  \n",
       "49939      1.0       1.0       2.0       2.0       NaN       NaN       2.0  \n",
       "49940      3.0       2.0       1.0       1.0       NaN       NaN       2.0  \n",
       "49941      2.0       2.0       1.0       1.0       NaN       NaN       1.0  \n",
       "49942      1.0       1.0       1.0       1.0       NaN       NaN       2.0  \n",
       "\n",
       "[5 rows x 358 columns]"
      ]
     },
     "execution_count": 88,
     "metadata": {},
     "output_type": "execute_result"
    }
   ],
   "source": [
    "df.head() #calls first 5 rows of our dataset"
   ]
  },
  {
   "cell_type": "markdown",
   "metadata": {},
   "source": [
    "## Subset your dataframe to only include the states in the tri-state area (NJ, CT, NY)"
   ]
  },
  {
   "cell_type": "code",
   "execution_count": 89,
   "metadata": {},
   "outputs": [
    {
     "data": {
      "text/html": [
       "<div>\n",
       "<style scoped>\n",
       "    .dataframe tbody tr th:only-of-type {\n",
       "        vertical-align: middle;\n",
       "    }\n",
       "\n",
       "    .dataframe tbody tr th {\n",
       "        vertical-align: top;\n",
       "    }\n",
       "\n",
       "    .dataframe thead th {\n",
       "        text-align: right;\n",
       "    }\n",
       "</style>\n",
       "<table border=\"1\" class=\"dataframe\">\n",
       "  <thead>\n",
       "    <tr style=\"text-align: right;\">\n",
       "      <th></th>\n",
       "      <th>state</th>\n",
       "      <th>FMONTH</th>\n",
       "      <th>IDATE</th>\n",
       "      <th>IMONTH</th>\n",
       "      <th>IDAY</th>\n",
       "      <th>IYEAR</th>\n",
       "      <th>DISPCODE</th>\n",
       "      <th>SEQNO</th>\n",
       "      <th>_PSU</th>\n",
       "      <th>CTELENM1</th>\n",
       "      <th>...</th>\n",
       "      <th>_PA300R2</th>\n",
       "      <th>_PA30021</th>\n",
       "      <th>_PASTRNG</th>\n",
       "      <th>_PAREC1</th>\n",
       "      <th>_PASTAE1</th>\n",
       "      <th>_RFSEAT2</th>\n",
       "      <th>_RFSEAT3</th>\n",
       "      <th>_FLSHOT6</th>\n",
       "      <th>_PNEUMO2</th>\n",
       "      <th>_AIDTST3</th>\n",
       "    </tr>\n",
       "  </thead>\n",
       "  <tbody>\n",
       "  </tbody>\n",
       "</table>\n",
       "<p>0 rows × 358 columns</p>\n",
       "</div>"
      ],
      "text/plain": [
       "Empty DataFrame\n",
       "Columns: [state, FMONTH, IDATE, IMONTH, IDAY, IYEAR, DISPCODE, SEQNO, _PSU, CTELENM1, PVTRESD1, COLGHOUS, STATERE1, CELLFON4, LADULT, NUMADULT, NUMMEN, NUMWOMEN, SAFETIME, CTELNUM1, CELLFON5, CADULT, PVTRESD3, CCLGHOUS, CSTATE1, LANDLINE, HHADULT, GENHLTH, physical_health, MENTHLTH, POORHLTH, HLTHPLN1, PERSDOC2, MEDCOST, CHECKUP1, BPHIGH4, BPMEDS, CHOLCHK1, TOLDHI2, CHOLMED1, CVDINFR4, CVDCRHD4, CVDSTRK3, ASTHMA3, ASTHNOW, CHCSCNCR, CHCOCNCR, CHCCOPD1, HAVARTH3, ADDEPEV2, CHCKIDNY, DIABETE3, DIABAGE2, LMTJOIN3, ARTHDIS2, ARTHSOCL, JOINPAI1, SEX, MARITAL, EDUCA, RENTHOM1, NUMHHOL2, NUMPHON2, CPDEMO1A, VETERAN3, EMPLOY1, CHILDREN, INCOME2, INTERNET, WEIGHT2, HEIGHT3, PREGNANT, DEAF, BLIND, DECIDE, DIFFWALK, DIFFDRES, DIFFALON, SMOKE100, smoking, STOPSMK2, LASTSMK2, USENOW3, ECIGARET, ECIGNOW, ALCDAY5, AVEDRNK2, DRNK3GE5, MAXDRNKS, FRUIT2, FRUITJU2, FVGREEN1, FRENCHF1, POTATOE1, VEGETAB2, EXERANY2, EXRACT11, EXEROFT1, EXERHMM1, EXRACT21, ...]\n",
       "Index: []\n",
       "\n",
       "[0 rows x 358 columns]"
      ]
     },
     "execution_count": 89,
     "metadata": {},
     "output_type": "execute_result"
    }
   ],
   "source": [
    "df[df['state'].isin([9,34,36])] #subsets data to only include the states wanted"
   ]
  },
  {
   "cell_type": "code",
   "execution_count": 90,
   "metadata": {},
   "outputs": [
    {
     "data": {
      "text/plain": [
       "count    34545.000000\n",
       "mean        60.213403\n",
       "std         37.504566\n",
       "min          1.000000\n",
       "25%         15.000000\n",
       "50%         88.000000\n",
       "75%         88.000000\n",
       "max         99.000000\n",
       "Name: physical_health, dtype: float64"
      ]
     },
     "execution_count": 90,
     "metadata": {},
     "output_type": "execute_result"
    }
   ],
   "source": [
    "df['physical_health'].describe() # shows info about our data now"
   ]
  },
  {
   "cell_type": "markdown",
   "metadata": {},
   "source": [
    "Now check to see how large our subset df."
   ]
  },
  {
   "cell_type": "markdown",
   "metadata": {},
   "source": [
    "**PHYSHLTH** is the column we are interested in for this analysis, so let's start to investigate the column. Since we have a data cookbook, a.k.a. data dictionary) we want to start there before looking at the code."
   ]
  },
  {
   "cell_type": "markdown",
   "metadata": {},
   "source": [
    "## 1. Handle the non-normal values\n",
    "\n",
    "As you can see from the data dictionary, there are a number of responses that are coded with values that could throw off our descriptive statistics.  Let's clean up by mapping the responses to a more appropriate value, and handling any missing values.  "
   ]
  },
  {
   "cell_type": "code",
   "execution_count": 91,
   "metadata": {},
   "outputs": [],
   "source": [
    "#df['PHYSHLTH'] = np.where(df['PHYSHLTH'] == 88.0, 0, df['PHYSHLTH']) \n"
   ]
  },
  {
   "cell_type": "code",
   "execution_count": 92,
   "metadata": {},
   "outputs": [
    {
     "data": {
      "text/plain": [
       "(33747,)"
      ]
     },
     "execution_count": 92,
     "metadata": {},
     "output_type": "execute_result"
    }
   ],
   "source": [
    "df.drop(df.loc[df['physical_health'] == 99.0 ].index, inplace=True)   # Delete values where patient - 'Refused'\n",
    "df.drop(df.loc[df['physical_health'] == 77.0 ].index, inplace=True)   # Delete values where patient - 'Don't know/Not Sure\n",
    "df.physical_health = np.where(df.physical_health == 88.0, 0, df.physical_health) # Transforms 88. into 0\n",
    "df.physical_health.shape #calls the shape of our data"
   ]
  },
  {
   "cell_type": "code",
   "execution_count": 93,
   "metadata": {},
   "outputs": [],
   "source": [
    "#df[df['PHYSHLTH'] <= 30]['PHYSHLTH'].mean() "
   ]
  },
  {
   "cell_type": "code",
   "execution_count": 94,
   "metadata": {},
   "outputs": [
    {
     "data": {
      "text/plain": [
       "count    33747.000000\n",
       "mean         4.085341\n",
       "std          8.513293\n",
       "min          0.000000\n",
       "25%          0.000000\n",
       "50%          0.000000\n",
       "75%          3.000000\n",
       "max         30.000000\n",
       "Name: physical_health, dtype: float64"
      ]
     },
     "execution_count": 94,
     "metadata": {},
     "output_type": "execute_result"
    }
   ],
   "source": [
    "df.physical_health.describe() #displays info about dataframe to check"
   ]
  },
  {
   "cell_type": "markdown",
   "metadata": {},
   "source": [
    "## 2. Generate the descriptive statistics\n",
    "\n",
    "Now that our target variable is cleaned up lets calculate the descriptive statistics, generate a graph that quickly shows those statistics, and generate a graph shows the distribution of the data."
   ]
  },
  {
   "cell_type": "code",
   "execution_count": 95,
   "metadata": {},
   "outputs": [
    {
     "data": {
      "text/plain": [
       "31"
      ]
     },
     "execution_count": 95,
     "metadata": {},
     "output_type": "execute_result"
    }
   ],
   "source": [
    "# descriptive statistics\n",
    "len(df.physical_health.unique()) #tells us the length of our unique values in physical health"
   ]
  },
  {
   "cell_type": "code",
   "execution_count": 96,
   "metadata": {},
   "outputs": [
    {
     "data": {
      "text/plain": [
       "count    33747.000000\n",
       "mean         4.085341\n",
       "std          8.513293\n",
       "min          0.000000\n",
       "25%          0.000000\n",
       "50%          0.000000\n",
       "75%          3.000000\n",
       "max         30.000000\n",
       "Name: physical_health, dtype: float64"
      ]
     },
     "execution_count": 96,
     "metadata": {},
     "output_type": "execute_result"
    }
   ],
   "source": [
    "df.physical_health.describe() #displays info about dataframe to check\n"
   ]
  },
  {
   "cell_type": "code",
   "execution_count": 97,
   "metadata": {},
   "outputs": [
    {
     "data": {
      "image/png": "[encoded data removed]",
      "text/plain": [
       "<Figure size 1440x432 with 2 Axes>"
      ]
     },
     "metadata": {
      "needs_background": "light"
     },
     "output_type": "display_data"
    }
   ],
   "source": [
    "fig = plt.figure(figsize=(20,6)) #denotes a figue\n",
    "\n",
    "ax1 = fig.add_subplot(1,2,1)  #gives specss for our first chart\n",
    "ax2 = fig.add_subplot(1,2,2) #gives the specs for the second chart\n",
    "\n",
    "ax1.hist(df.physical_health, color='coral', rwidth = 0.9, edgecolor= 'mediumslateblue') #sets our first figure as a hist with a color and edge color\n",
    "ax1.set_title(\"Distribution of People's Sick Days\", size= 18) #sets the title for the hist\n",
    "ax1.set_xlabel('Sick Days', size=10) #labels or x axis\n",
    "ax1.set_ylabel('Number Of Observations', size=10) #labels our y axis \n",
    "\n",
    "ax2.boxplot(df.physical_health, vert = False) #denots our second graph as a boxplot\n",
    "ax2.set_xlabel('Sick Days', size=10) #labels our x axis \n",
    "plt.show() #displays our graph without the array at the top "
   ]
  },
  {
   "cell_type": "markdown",
   "metadata": {},
   "source": [
    "## 3. Generate a graphic that compares the average number of sick days for each state. "
   ]
  },
  {
   "cell_type": "code",
   "execution_count": 98,
   "metadata": {},
   "outputs": [
    {
     "data": {
      "text/plain": [
       "state\n",
       "Connecticut    3.688562\n",
       "New Jersey     4.380957\n",
       "New York       4.148030\n",
       "Name: physical_health, dtype: float64"
      ]
     },
     "execution_count": 98,
     "metadata": {},
     "output_type": "execute_result"
    }
   ],
   "source": [
    "# code to calculate the average number of sick days by state\n",
    "state_grouped = df.groupby('state')['physical_health'].mean() #displays the mean of each state \n",
    "state_grouped"
   ]
  },
  {
   "cell_type": "code",
   "execution_count": 99,
   "metadata": {},
   "outputs": [
    {
     "data": {
      "image/png": "[encoded data removed]",
      "text/plain": [
       "<Figure size 720x432 with 1 Axes>"
      ]
     },
     "metadata": {
      "needs_background": "light"
     },
     "output_type": "display_data"
    }
   ],
   "source": [
    "fig, ax = plt.subplots(figsize=(10,6))   #sets up a figure\n",
    "ax.bar(state_grouped.index ,state_grouped.values, color='mediumslateblue', edgecolor= 'coral', align='center') #denotes our chart as bar chart \n",
    "ax.set_title('Compering Health by State', size=15) #sets the title\n",
    "ax.set_ylabel('AVG Days Sick', size=15) #sets the title of y axis\n",
    "plt.show() #shows the chart "
   ]
  },
  {
   "cell_type": "code",
   "execution_count": 100,
   "metadata": {},
   "outputs": [],
   "source": [
    "ct = df.loc[ df['state'] == 'Connecticut' , ['physical_health']] #maps the state to the physical health\n",
    "nj = df.loc[ df['state'] == 'New Jersey' , ['physical_health']] #same\n",
    "ny = df.loc[ df['state'] == 'New York' , ['physical_health']] #same"
   ]
  },
  {
   "cell_type": "code",
   "execution_count": 101,
   "metadata": {},
   "outputs": [
    {
     "data": {
      "image/png": "[encoded data removed]",
      "text/plain": [
       "<Figure size 720x432 with 1 Axes>"
      ]
     },
     "metadata": {
      "needs_background": "light"
     },
     "output_type": "display_data"
    }
   ],
   "source": [
    "#graphic showing the histogram of data\n",
    "fig, ax = plt.subplots(figsize=(10,6)) #sets the figure\n",
    "\n",
    "ax.hist(ct.values , label=\"Connecticut\", histtype='step')  #plots the ct info on a hist\n",
    "ax.hist(nj.values, label=\"New Jersey\", histtype='step') #plots the cj info on a hist\n",
    "ax.hist(ny.values, label=\"New York\", histtype='step') #plots the ny\n",
    "\n",
    "ax.set_xlabel('Sick Days') #sets the name of the x label\n",
    "ax.set_ylabel('# of observations') #sets the name of the y label\n",
    "ax.set_title(\"Distribution of People's Sick Days\") #sets the title of the chart \n",
    "ax.legend() #displays a legens for our chart\n",
    "plt.show() #displays our chart "
   ]
  },
  {
   "cell_type": "markdown",
   "metadata": {},
   "source": [
    "## 4. Turn the number of sick days into a classification of of chronically sick people.  \n",
    "\n",
    "Chronically sick people account for a significant proportion of the costs for health insurers. If we can identify what leads people to be chronically sick, we can address them with specific treatments.\n",
    "\n"
   ]
  },
  {
   "cell_type": "code",
   "execution_count": 102,
   "metadata": {},
   "outputs": [],
   "source": [
    "\n",
    "# code to create new colum for chronically sick\n",
    "df['chron'] = np.where(df['physical_health']>20, 1, 0) #uses where function to say if someones physical health is sick for more than 20 days then it is TRUE that they are chron sick and otherwise they are health FALSE"
   ]
  },
  {
   "cell_type": "code",
   "execution_count": 103,
   "metadata": {},
   "outputs": [
    {
     "data": {
      "text/plain": [
       "49938     0\n",
       "49939     0\n",
       "49940     0\n",
       "49941     0\n",
       "49942     0\n",
       "         ..\n",
       "303774    0\n",
       "303775    0\n",
       "303776    0\n",
       "303777    0\n",
       "303778    0\n",
       "Name: chron, Length: 33747, dtype: int64"
      ]
     },
     "execution_count": 103,
     "metadata": {},
     "output_type": "execute_result"
    }
   ],
   "source": [
    "df['chron']"
   ]
  },
  {
   "cell_type": "code",
   "execution_count": 104,
   "metadata": {},
   "outputs": [
    {
     "data": {
      "text/plain": [
       "0    30936\n",
       "1     2811\n",
       "Name: chron, dtype: int64"
      ]
     },
     "execution_count": 104,
     "metadata": {},
     "output_type": "execute_result"
    }
   ],
   "source": [
    "df.chron.value_counts() #displays our counts for the above info where 0 false or healthy and 1 is True or chronically sick"
   ]
  },
  {
   "cell_type": "markdown",
   "metadata": {},
   "source": [
    "## 5. Create a graphic that compares the percentage of people labeled as 'sick' in each state. "
   ]
  },
  {
   "cell_type": "code",
   "execution_count": 105,
   "metadata": {},
   "outputs": [],
   "source": [
    "# code to calculate averages per state\n",
    "#x=df.groupby(['_STATE','chron'])['chron'].count() \n",
    "#y=df.groupby(['_STATE'])['chron'].count()\n",
    "#r=((x/y)*100).round(2) \n",
    "#print(r)"
   ]
  },
  {
   "cell_type": "code",
   "execution_count": 106,
   "metadata": {},
   "outputs": [
    {
     "data": {
      "text/plain": [
       "state\n",
       "Connecticut    7.346586\n",
       "New Jersey     9.451911\n",
       "New York       8.108791\n",
       "Name: chron, dtype: float64"
      ]
     },
     "execution_count": 106,
     "metadata": {},
     "output_type": "execute_result"
    }
   ],
   "source": [
    "# code to calculate averages per state\n",
    "chron_sick=df.groupby('state')['chron'].value_counts(normalize=True).loc[:,1]*100 #groups our chronically sick values by state and turns them into a percentage \n",
    "chron_sick  #calls the above function"
   ]
  },
  {
   "cell_type": "code",
   "execution_count": 107,
   "metadata": {},
   "outputs": [
    {
     "data": {
      "image/png": "[encoded data removed]",
      "text/plain": [
       "<Figure size 720x432 with 1 Axes>"
      ]
     },
     "metadata": {
      "needs_background": "light"
     },
     "output_type": "display_data"
    }
   ],
   "source": [
    "# create graphic to compare chronically sick by state\n",
    "fig, ax = plt.subplots(figsize=(10,6))  #calls a figure \n",
    "ax.bar(chron_sick.index ,chron_sick.values, color='coral', edgecolor= 'mediumslateblue', align='center') #calls our figure as a barchart sets a color an aligns it\n",
    "ax.set_title('Chronic Sick People by State', size=15) #sets the title\n",
    "ax.set_ylabel('% of Chronic Sick People', size=15) #labels our y axis\n",
    "plt.show() #shows our chart"
   ]
  },
  {
   "cell_type": "markdown",
   "metadata": {},
   "source": [
    "## 6. Independent Variables (categorical)\n",
    "\n",
    "Does smoking affect the number of days people feel physically ill? \n",
    "Let's take the column `SMOKDAY2` and start to prepare it so that we can see how it is possibly correlated to `PHYSHLTH`. When cleaning this data you will find that many respondents were not asked that question. read the codebook to understand why, and use that information when cleaning up your data. I.E, you will need to process two columns in order to create a new column of smokers.\n",
    "\n",
    "1. Clean up the values.\n",
    "2. Calculate the descriptive statistics of the variable.\n",
    "3. Generate a histogram for the variable.\n",
    "4. Generate graphics that show how the responses to this variable might differ by state.\n",
    "5. Generate a graphic that compares the physical health of the different groups of 'smokers'."
   ]
  },
  {
   "cell_type": "code",
   "execution_count": 108,
   "metadata": {},
   "outputs": [],
   "source": [
    "df = df[~df.smoking.isna()]  # droping NaN from smoking\n",
    "conditions = [ df['smoking'] == 1.0 ,df['smoking'] == 2.0 ,df['smoking'] == 3.0, df['smoking'] == 7.0, df['smoking'] == 9.0] #assigns labels to the number values\n",
    "choices = ['Everyday', 'Some Days', 'Non-Smoker', \"Dont'know\", 'Refused'] # sets this as our choices variable of labels \n",
    "df['smoking'] = np.select(conditions, choices) #connects our values to our chosen labels"
   ]
  },
  {
   "cell_type": "code",
   "execution_count": 109,
   "metadata": {},
   "outputs": [
    {
     "data": {
      "text/plain": [
       "Non-Smoker    70.493020\n",
       "Everyday      19.386694\n",
       "Some Days      9.919810\n",
       "Refused        0.155925\n",
       "Dont'know      0.044550\n",
       "Name: smoking, dtype: float64"
      ]
     },
     "execution_count": 109,
     "metadata": {},
     "output_type": "execute_result"
    }
   ],
   "source": [
    "pct_smoking = df['smoking'].value_counts(normalize=True)*100 #turns altered data into a percent \n",
    "pct_smoking #calls this function \n"
   ]
  },
  {
   "cell_type": "code",
   "execution_count": 110,
   "metadata": {},
   "outputs": [
    {
     "data": {
      "image/png": "[encoded data removed]",
      "text/plain": [
       "<Figure size 720x432 with 1 Axes>"
      ]
     },
     "metadata": {
      "needs_background": "light"
     },
     "output_type": "display_data"
    }
   ],
   "source": [
    "fig, ax = plt.subplots(figsize=(10,6)) #creates a figure \n",
    "ax.bar(pct_smoking.index ,pct_smoking.values, color='mediumslateblue', edgecolor= 'coral', align='center') #plots our above data as a bar chart\n",
    "ax.set_title('Smoking Status', size=15) #sets the chart title\n",
    "ax.set_ylabel('Percent of Surveyed', size=15) #sets the y label\n",
    "plt.show() #shows out chart"
   ]
  },
  {
   "cell_type": "code",
   "execution_count": 111,
   "metadata": {},
   "outputs": [
    {
     "data": {
      "image/png": "[encoded data removed]",
      "text/plain": [
       "<Figure size 432x288 with 1 Axes>"
      ]
     },
     "metadata": {
      "needs_background": "light"
     },
     "output_type": "display_data"
    }
   ],
   "source": [
    "# code to graph these averages sick days for each category of smoking status \n",
    "smk_groupped = df.groupby(['state'])['smoking'].value_counts(normalize=True)*100 #sets our data to a variable\n",
    "\n",
    "unst = smk_groupped.unstack() #creates a stack\n",
    "unst['Unknown'] = unst['Refused']+ unst[\"Dont'know\"] #combines refused and dont know as unknown\n",
    "unst.drop(columns=[\"Dont'know\",'Refused'],inplace=True) #drops don't know and refused from our graph\n",
    "unst.plot(kind = 'bar', stacked = True , legend = '1') #plots the data on a bar graph \n",
    "plt.legend(loc='center left', bbox_to_anchor=(1, 0.75)) #creates a legend and moves it to the side \n",
    "plt.show() #displays our chart "
   ]
  },
  {
   "cell_type": "code",
   "execution_count": 112,
   "metadata": {},
   "outputs": [],
   "source": [
    "unst = smk_groupped.unstack()  #pivots the index label"
   ]
  },
  {
   "cell_type": "code",
   "execution_count": 113,
   "metadata": {},
   "outputs": [
    {
     "data": {
      "image/png": "[encoded data removed]",
      "text/plain": [
       "<Figure size 432x288 with 1 Axes>"
      ]
     },
     "metadata": {
      "needs_background": "light"
     },
     "output_type": "display_data"
    }
   ],
   "source": [
    "df1 = df.groupby('smoking')['physical_health'].mean() #groups our data by mean\n",
    "df1.plot(kind = 'bar', color = 'coral', edgecolor='mediumslateblue') #plots the info on a bar\n",
    "plt.show() #shows our chart"
   ]
  },
  {
   "cell_type": "markdown",
   "metadata": {},
   "source": [
    "## 7. Independent Variables (continuous):\n",
    "\n",
    "Does the amount of days a person drinks affect the number of days they feel physically ill?\n",
    "To investigate this, let's look at a continuous variable (ALCDAY5) and see how that might impact a person's health. \n",
    "\n",
    "1. Clean up the values.\n",
    "2. Calculate the descriptive statistics of the variable.\n",
    "3. Generate a histogram for the variable.\n",
    "4. Generate graphics that show how the responses to this variable might differ by state.\n",
    "5. Calculate the correlation coefficient between `PHYSHLTH` and `ALCDAY5`.\n",
    "5. Generate a graphic that shows the possible relationship between `PHYSHLTH` and `ALCDAY5`."
   ]
  },
  {
   "cell_type": "code",
   "execution_count": 114,
   "metadata": {},
   "outputs": [],
   "source": [
    "# 1. code here to clean up the ALCDAY5 responses\n",
    "alc_dict = {888:0, \n",
    "            777: np.nan,\n",
    "            999: np.nan\n",
    "            } #replace these values in a dictionary as stated\n",
    "\n",
    "df['alcohol'] = df['ALCDAY5'].replace(alc_dict) #calls the above action on a specific dataframe"
   ]
  },
  {
   "cell_type": "code",
   "execution_count": 115,
   "metadata": {},
   "outputs": [
    {
     "data": {
      "text/plain": [
       "count    13127.000000\n",
       "mean       112.285747\n",
       "std         94.710199\n",
       "min          0.000000\n",
       "25%          0.000000\n",
       "50%        104.000000\n",
       "75%        204.000000\n",
       "max        230.000000\n",
       "Name: alcohol, dtype: float64"
      ]
     },
     "execution_count": 115,
     "metadata": {},
     "output_type": "execute_result"
    }
   ],
   "source": [
    "# 2 . descriptive statistics of cleaned data \n",
    "df['alcohol'].describe()"
   ]
  },
  {
   "cell_type": "code",
   "execution_count": 116,
   "metadata": {},
   "outputs": [],
   "source": [
    "#function transforms the data to be on the same monthly scale. \n",
    "def calc_monthly(x):\n",
    "    if x>200:\n",
    "        return x-200\n",
    "    elif x>100:\n",
    "        return min(int((x-100)*4.34524), 30)\n",
    "    else:\n",
    "        return x"
   ]
  },
  {
   "cell_type": "code",
   "execution_count": 117,
   "metadata": {},
   "outputs": [],
   "source": [
    "df['alcohol']= df['alcohol'].apply(calc_monthly) #applies function the data frame "
   ]
  },
  {
   "cell_type": "code",
   "execution_count": 118,
   "metadata": {},
   "outputs": [
    {
     "data": {
      "text/plain": [
       "count    13127.000000\n",
       "mean         6.580712\n",
       "std          9.454206\n",
       "min          0.000000\n",
       "25%          0.000000\n",
       "50%          2.000000\n",
       "75%          8.000000\n",
       "max         30.000000\n",
       "Name: alcohol, dtype: float64"
      ]
     },
     "execution_count": 118,
     "metadata": {},
     "output_type": "execute_result"
    }
   ],
   "source": [
    "df['alcohol'].describe() #checks data for trandformation "
   ]
  },
  {
   "cell_type": "code",
   "execution_count": 120,
   "metadata": {},
   "outputs": [
    {
     "data": {
      "image/png": "[encoded data removed]",
      "text/plain": [
       "<Figure size 432x288 with 1 Axes>"
      ]
     },
     "metadata": {
      "needs_background": "light"
     },
     "output_type": "display_data"
    }
   ],
   "source": [
    "# 3.  graphic showing the histogram of data\n",
    "\n",
    "fig, ax = plt.subplots()\n",
    "# Plot a histogram of \"Weight\" for mens_rowing\n",
    "ax.hist(df['alcohol'], bins='auto', color='mediumslateblue', edgecolor='coral')\n",
    "\n",
    "ax.set_xlabel('Days Drinking')\n",
    "ax.set_ylabel('# of observations')\n",
    "ax.set_title(\"Distribution of Days Drinking\")\n",
    "\n",
    "plt.show()"
   ]
  },
  {
   "cell_type": "code",
   "execution_count": 121,
   "metadata": {},
   "outputs": [
    {
     "data": {
      "text/plain": [
       "state\n",
       "Connecticut    7.195330\n",
       "New Jersey     6.137787\n",
       "New York       6.465179\n",
       "Name: alcohol, dtype: float64"
      ]
     },
     "execution_count": 121,
     "metadata": {},
     "output_type": "execute_result"
    }
   ],
   "source": [
    "# 4. code to calculate averages per state\n",
    "drink_days=df.groupby('state')['alcohol'].mean() #groups our number of drinking days values by state and turns them into a percentage \n",
    "drink_days  #calls the above function"
   ]
  },
  {
   "cell_type": "code",
   "execution_count": 122,
   "metadata": {},
   "outputs": [
    {
     "data": {
      "text/plain": [
       "physical_health    1.00000\n",
       "alcohol           -0.11781\n",
       "Name: physical_health, dtype: float64"
      ]
     },
     "execution_count": 122,
     "metadata": {},
     "output_type": "execute_result"
    }
   ],
   "source": [
    "# 5. Code to calculate correlation of between number of dirnks of number of days physically ill \n",
    "df[['physical_health', 'alcohol']].corr()['physical_health']\n"
   ]
  },
  {
   "cell_type": "code",
   "execution_count": 123,
   "metadata": {},
   "outputs": [
    {
     "data": {
      "image/png": "[encoded data removed]",
      "text/plain": [
       "<Figure size 432x288 with 1 Axes>"
      ]
     },
     "metadata": {
      "needs_background": "light"
     },
     "output_type": "display_data"
    }
   ],
   "source": [
    "# 6. \n",
    "fig, ax = plt.subplots()\n",
    "\n",
    "# Add data: \"height\", \"weight\" as x-y, index as color\n",
    "ax.scatter(df[\"alcohol\"], df[\"physical_health\"], color = 'coral', edgecolor = 'mediumslateblue')\n",
    "\n",
    "ax.set_xlabel(\"Drinking Days\")\n",
    "ax.set_ylabel(\"Sick Days\")\n",
    "ax.set_title('Relationship between Drinking and Health')\n",
    "\n",
    "\n",
    "plt.show()"
   ]
  },
  {
   "cell_type": "markdown",
   "metadata": {},
   "source": [
    "## 8. Statistical Inference\n"
   ]
  },
  {
   "cell_type": "markdown",
   "metadata": {},
   "source": [
    "Create a 95% confidence interval for the population mean of physically ill days.\n",
    "\n",
    "Create a 95% confidence interval for the true proportion of chronically sick people.\n",
    "\n",
    "Mean =\n",
    "\n",
    "Standard Deviation = \n",
    "\n",
    "Confidence Factor = "
   ]
  },
  {
   "cell_type": "code",
   "execution_count": 124,
   "metadata": {},
   "outputs": [],
   "source": [
    "import numpy as np \n",
    "import scipy as sp \n",
    "import pandas as pd \n",
    "import scipy.stats as stats \n",
    "import seaborn as sns \n",
    "import matplotlib.pyplot as plt \n",
    "import math"
   ]
  },
  {
   "cell_type": "code",
   "execution_count": 164,
   "metadata": {},
   "outputs": [],
   "source": [
    "def conf_interval(sample, q):\n",
    "    \n",
    "    sample_size = len(sample) #Takes the number of observations in our sample aka n value\n",
    "    x_hat = sample.mean() #Sums the the number of observations and divides by the numbers to get your mean aka x-hat\n",
    "    \n",
    "    z = stats.norm.ppf(q) #Takes in your confidence value,  associated with 95% but only for one side so at 95% + plus the one tail to get 97.5\n",
    "    stdev = sample.std()  #Standard deviation of the sample \n",
    "    \n",
    "    moe = z * (stdev/math.sqrt(sample_size)) #Calculates your margin or error which std devided by the square root of your sample size \n",
    "    \n",
    "    conf = (x_hat - moe, x_hat + moe) #Returns confidence inteval which your average + or minus (in this case returning both) your moe \n",
    "    return z, moe, conf  "
   ]
  },
  {
   "cell_type": "markdown",
   "metadata": {},
   "source": [
    "- Create a 95% confidence interval for the population mean of physically ill days."
   ]
  },
  {
   "cell_type": "code",
   "execution_count": 165,
   "metadata": {},
   "outputs": [
    {
     "name": "stdout",
     "output_type": "stream",
     "text": [
      "Z-critical value:\n",
      "1.959963984540054\n",
      "\n",
      "Margin of Error\n",
      "0.16098210431842422\n",
      "\n",
      "Confidence Interval:\n",
      "(4.994423301086981, 5.316387509723829)\n"
     ]
    }
   ],
   "source": [
    "q = .975\n",
    "z_critical, margin_of_error, confidence_interval = conf_interval(df['physical_health'], q) #maps the items returned from fucntion in the same order \n",
    "print(\"Z-critical value:\")              \n",
    "print(z_critical)         \n",
    "print ('\\nMargin of Error')\n",
    "print(margin_of_error)\n",
    "print(\"\\nConfidence Interval:\")\n",
    "print(confidence_interval)"
   ]
  },
  {
   "cell_type": "markdown",
   "metadata": {},
   "source": [
    "-  Create a 95% confidence interval for the true proportion of chronically sick people."
   ]
  },
  {
   "cell_type": "code",
   "execution_count": 166,
   "metadata": {},
   "outputs": [
    {
     "name": "stdout",
     "output_type": "stream",
     "text": [
      "Z-critical Value:\n",
      "1.959963984540054\n",
      "\n",
      "Margin of Error\n",
      "0.005308669259863168\n",
      "\n",
      "Confidence Interval:\n",
      "(0.10584369189249798, 0.11646103041222433)\n"
     ]
    }
   ],
   "source": [
    "z_critical, margin_of_error, confidence_interval = conf_interval(df['chron'], q) #maps the items returned from fucntion in the same order \n",
    "print(\"Z-critical Value:\")              \n",
    "print(z_critical)         \n",
    "print ('\\nMargin of Error')\n",
    "print(margin_of_error)\n",
    "print(\"\\nConfidence Interval:\")\n",
    "print(confidence_interval) "
   ]
  },
  {
   "cell_type": "markdown",
   "metadata": {},
   "source": [
    "## 9. Hypothesis Tests "
   ]
  },
  {
   "cell_type": "markdown",
   "metadata": {},
   "source": [
    "**For the follwing questions that require hypothesis tests, you must complete the following steps for each question:**\n",
    "\n",
    "*1. Write down the null and alternative hypothesis you are testing.* \n",
    "\n",
    "*2. Select the appropriate test and calculate the test statistic and P-values.*\n",
    "\n",
    "*3. Determine the critical value for the 95% confidence interval.*\n",
    "\n",
    "*4. Evaluate the test statistic agains the critical value.*\n",
    "\n",
    "*5. Determine if you reject or fail to reject the null hypothesis and write a sentence explaining the results of your hypothesis test.*  "
   ]
  },
  {
   "cell_type": "markdown",
   "metadata": {},
   "source": [
    "### 9.A The following questions are regarding the `PHYSHLTH` variable. \n",
    "1. What is the probability of getting this sample mean for days physically ill, if the population mean is 4?\n",
    "2. Is there a statistically significant difference between men and women in the number of days a person feels phsyically ill?\n",
    "3. Perform a statistical test to determine if there statistically significant difference is physical health of people from the three states. \n"
   ]
  },
  {
   "cell_type": "markdown",
   "metadata": {},
   "source": [
    "9A -1)  \n",
    "    #1. Write down the null and alternative hypothesis you are testing.\n",
    "          - H0: Mu = 4 H1: Mu != 4\n",
    "\n",
    "    #2. Select the appropriate test and calculate the test statistic and P-values.\n",
    "           - We will use a t-test for a mean because we do only have the std for sample. \n",
    "\n",
    "    #3. Determine the critical value for the 95% confidence interval. \n",
    "           - t-score  1.96 \n",
    "\n",
    "    #4. Evaluate the test statistic agains the critical value.\n",
    "            - t-test = 14.06711007863357, p-value = 1.2516778487079456e-44\n",
    "\n",
    "    #5. Determine if you reject or fail to reject the null hypothesis and write a sentence explaining the results of your hypothesis test.  \n",
    "            - We will reject our null hypothesis because our test statistic is significantly higher than our critical value (1.96) with 95% confidence.\n",
    "    \n",
    "    \n",
    " - The probability of getting this sample mean for days physically ill, if the population mean is 4 is 1.2516778487079456e-44.\n"
   ]
  },
  {
   "cell_type": "code",
   "execution_count": 128,
   "metadata": {},
   "outputs": [
    {
     "data": {
      "text/plain": [
       "Ttest_1sampResult(statistic=14.06711007863357, pvalue=1.2516778487079456e-44)"
      ]
     },
     "execution_count": 128,
     "metadata": {},
     "output_type": "execute_result"
    }
   ],
   "source": [
    "#Code for #1 \n",
    "\n",
    "phy_hlth = df['physical_health']\n",
    "mu = 4 # aka population mean\n",
    "alpha = .05 #assumed alpha\n",
    "phy_hlth_mean = phy_hlth.mean()\n",
    "\n",
    "def one_sample_t_test(sample, population_mean, alpha):   \n",
    "    mu = population_mean #population mean\n",
    "    x_bar= sample.mean() # Sample mean \n",
    "    sample_std = np.std(sample) # Sample standard deviation\n",
    "    df = len(sample) - 1 # Degrees of freedom\n",
    "\n",
    "    t_crit = stats.t.ppf(1 - alpha, df)     #Calculate the t-value\n",
    "    results = stats.ttest_1samp(a = sample, popmean = mu) \n",
    "    return results\n",
    "        \n",
    "one_sample_t_test(phy_hlth, mu, alpha)"
   ]
  },
  {
   "cell_type": "code",
   "execution_count": 161,
   "metadata": {},
   "outputs": [],
   "source": [
    "#def one_sample_ttest(sample, popmean, alpha):\n",
    "#    # Population mean \n",
    "#    mu = popmean\n",
    "#    # Sample mean (x̄) using NumPy mean()\n",
    "#    x_bar= sample.mean()\n",
    "#    # Sample Standard Deviation (sigma) using Numpy\n",
    "#    sigma = np.std(sample)\n",
    "#    # Degrees of freedom\n",
    "#     df = len(sample) - 1  \n",
    "#     #Calculate the critical t-value\n",
    "#     t_crit = stats.t.ppf(1 - alpha, df=df)\n",
    "#     #Calculate the t-value and p-value\n",
    "#     results = stats.ttest_1samp(a= sample, popmean= mu)         \n",
    "#     if (results[0]>t_crit) or (results[0]<(-t_crit)) or (results[1]<alpha):\n",
    "#         print (\"We reject null hypothesis. Results are statistically significant with t-value =\", \n",
    "#                 round(results[0], 2), \"critical t-value =\", t_crit, \"and p-value =\", np.round((results[1]), 10))\n",
    "#     else:\n",
    "#         print (\"We fail to reject the null hypothesis. Results are statistically insignifcant with t-value ==\", \n",
    "#                 round(results[0], 2), \", critical t-value =\", t_crit, \"and p-value =\", np.round((results[1]), 10)) \n",
    "# one_sample_ttest(phy_hlth, mu, alpha)"
   ]
  },
  {
   "cell_type": "markdown",
   "metadata": {},
   "source": [
    "9A -2)  \n",
    "    #1. Write down the null and alternative hypothesis you are testing.\n",
    "      -H0: Mu1 = Mu2 H1: Mu1 != Mu2\n",
    "\n",
    "    #2. Select the appropriate test and calculate the test statistic and P-values.\n",
    "           -We will use a two sample t-test because the population stds are unknown.  \n",
    "\n",
    "    #3. Determine the critical value for the 95% confidence interval. \n",
    "           - t-score +/- 1.645, \n",
    "\n",
    "    #4. Evaluate the test statistic agains the critical value.\n",
    "            -t-test = 4.310377925611631, p-value = 1.654129247374847e-05\n",
    "\n",
    "    #5. Determine if you reject or fail to reject the null hypothesis and write a sentence explaining the results of your hypothesis test.  \n",
    "            - We will reject the null hypothesis because my test statistic is greater than 1.645.  \n",
    "            \n",
    " - Yes, there is sufficient evidence to state that there is a statistically significant difference between men and women in the number of days a person feels physically ill.\n"
   ]
  },
  {
   "cell_type": "code",
   "execution_count": 129,
   "metadata": {},
   "outputs": [
    {
     "data": {
      "text/plain": [
       "(4.310377925611631, 1.6450911566467321, 1.654129247374847e-05)"
      ]
     },
     "execution_count": 129,
     "metadata": {},
     "output_type": "execute_result"
    }
   ],
   "source": [
    "#2 Is there a statistically significant difference between men and women in the number of days a person feels phsyically ill?\n",
    "\n",
    "#Create variables\n",
    "map_sex = {1:'Male',  2: 'Female', 9: np.nan}\n",
    "df['SEX'] = df['SEX'].replace(map_sex)\n",
    "fem = df.groupby('SEX')['physical_health'].get_group('Female')\n",
    "mal = df.groupby('SEX')['physical_health'].get_group('Male') \n",
    "\n",
    "#two sample t-test (two tailed)\n",
    "from scipy.stats import t as st\n",
    "def independent_ttest(data1, data2, alpha):\n",
    "\n",
    "# calculate needed numbers for samples\n",
    "    mean1, mean2 = np.mean(data1), np.mean(data2)\n",
    "    std1, std2 = np.std(data1, ddof=1), np.std(data2, ddof=1)\n",
    "    n1, n2 = len(data1), len(data2)\n",
    "    se1, se2 = std1/math.sqrt(n1), std2/math.sqrt(n2)\n",
    "\n",
    "# calculate standard error, test stat, and degrees of freedom\n",
    "    sed = math.sqrt(se1**2.0 + se2**2.0)\n",
    "    t_stat = (mean1 - mean2) / sed\n",
    "    df = min(len(data1), len(data2)) - 1\n",
    "\n",
    "# calculate the critical value and p-value\n",
    "    alpha = 0.05\n",
    "    cv = st.ppf(1.0 - alpha, df)\n",
    "    p = (1.0 - st.cdf(abs(t_stat), df)) * 2.0\n",
    "\n",
    "# return everything\n",
    "    return t_stat, cv, p\n",
    "\n",
    "independent_ttest(fem,mal,0.05) #maps the items returned from fucntion in the same order "
   ]
  },
  {
   "cell_type": "markdown",
   "metadata": {},
   "source": [
    "9A - 3)\n",
    "    #1. Write down the null and alternative hypothesis you are testing.\n",
    "      - H0: Mu1 = Mu2 = M3               H1: At least one mean is different. \n",
    "\n",
    "    #2. Select the appropriate test and calculate the test statistic and P-values.\n",
    "           -We will use a one way ANOVA because we are comparing the means of three different samples with one independent variables.     \n",
    "\n",
    "    #3. Determine the F-test statistic and the p-value for the 95% confidence level. \n",
    "           - F-test stat: 8.43346376043238             p-value: 0.00021861768601751048\n",
    "\n",
    "    #4. Determine if you reject or fail to reject the null hypothesis and write a sentence explaining the results of your hypothesis test.  \n",
    "            - We will reject the null hypothesis because our p-value is less than our alpha(.05). \n",
    "            \n",
    " -There is sufficient evidence to state that there is a statistically significant difference in physical health of people from the three states."
   ]
  },
  {
   "cell_type": "code",
   "execution_count": 130,
   "metadata": {},
   "outputs": [],
   "source": [
    "#stats.f_oneway(df['physical_health'][df['state'] == 'Connecticut'],\n",
    "#                df['physical_health'][df['state'] == 'New Jersey'], \n",
    "#                df['physical_health'][df['state'] == 'New York'])"
   ]
  },
  {
   "cell_type": "code",
   "execution_count": 131,
   "metadata": {},
   "outputs": [
    {
     "data": {
      "text/html": [
       "<div>\n",
       "<style scoped>\n",
       "    .dataframe tbody tr th:only-of-type {\n",
       "        vertical-align: middle;\n",
       "    }\n",
       "\n",
       "    .dataframe tbody tr th {\n",
       "        vertical-align: top;\n",
       "    }\n",
       "\n",
       "    .dataframe thead th {\n",
       "        text-align: right;\n",
       "    }\n",
       "</style>\n",
       "<table border=\"1\" class=\"dataframe\">\n",
       "  <thead>\n",
       "    <tr style=\"text-align: right;\">\n",
       "      <th></th>\n",
       "      <th>df</th>\n",
       "      <th>sum_sq</th>\n",
       "      <th>mean_sq</th>\n",
       "      <th>F</th>\n",
       "      <th>PR(&gt;F)</th>\n",
       "    </tr>\n",
       "  </thead>\n",
       "  <tbody>\n",
       "    <tr>\n",
       "      <th>state</th>\n",
       "      <td>2.0</td>\n",
       "      <td>1.530802e+03</td>\n",
       "      <td>765.400837</td>\n",
       "      <td>8.433464</td>\n",
       "      <td>0.000219</td>\n",
       "    </tr>\n",
       "    <tr>\n",
       "      <th>Residual</th>\n",
       "      <td>13465.0</td>\n",
       "      <td>1.222051e+06</td>\n",
       "      <td>90.757589</td>\n",
       "      <td>NaN</td>\n",
       "      <td>NaN</td>\n",
       "    </tr>\n",
       "  </tbody>\n",
       "</table>\n",
       "</div>"
      ],
      "text/plain": [
       "               df        sum_sq     mean_sq         F    PR(>F)\n",
       "state         2.0  1.530802e+03  765.400837  8.433464  0.000219\n",
       "Residual  13465.0  1.222051e+06   90.757589       NaN       NaN"
      ]
     },
     "execution_count": 131,
     "metadata": {},
     "output_type": "execute_result"
    }
   ],
   "source": [
    "#code for 9A-3\n",
    "#import packages\n",
    "from statsmodels.formula.api import ols\n",
    "import statsmodels.api as sm\n",
    "\n",
    "#Set our data variables\n",
    "anova_cat_ph_by_state = ols('physical_health~state', data=df).fit()\n",
    "\n",
    "def run_anova(sample):\n",
    "    anova_table = sm.stats.anova_lm(sample, type=2)\n",
    "    return anova_table \n",
    "\n",
    "run_anova(anova_cat_ph_by_state)"
   ]
  },
  {
   "cell_type": "markdown",
   "metadata": {},
   "source": [
    "### 9.B The following questions are regarding the  `CHRONIC` variable.\n",
    "1. What is the probability of drawing this sample proportion if chronically true population proportion is 0.10?\n",
    "2. Is there a statistically significant difference in the percentage of men and women who are chronically sick?\n",
    "3. Perform a statistical test to determine if there is a statistically significant difference in cproportion of people with chronic health issues from the three states."
   ]
  },
  {
   "cell_type": "markdown",
   "metadata": {},
   "source": [
    "9B -1)  \n",
    "    #1. Write down the null and alternative hypothesis you are testing.\n",
    "          - H0: p = .10 H1: p != .10 \n",
    "\n",
    "    #2. Select the appropriate test and calculate the test statistic and P-values.\n",
    "           - Z-test because we are comparing a sample proportion to a population proportion and np and n(1-p) are greater than 10.  \n",
    "\n",
    "    #3. Determine the critical value for the 95% confidence interval. \n",
    "           - z-score +/- 1.645 \n",
    "\n",
    "    #4. Evaluate the test statistic agains the critical value.\n",
    "           - z-test: 4.31416870463495  p-value: 1.6020457720866688e-05 \n",
    "\n",
    "    #5. Determine if you reject or fail to reject the null hypothesis and write a sentence explaining the results of your hypothesis test.  \n",
    "           - We will reject our null hypothesis because our test statistic is greater that our critical value (1.645).     \n",
    "    \n",
    "  - The probability of drawing this sample is 1.6020457720866688e-05. "
   ]
  },
  {
   "cell_type": "code",
   "execution_count": 137,
   "metadata": {},
   "outputs": [
    {
     "data": {
      "text/plain": [
       "(1.6020457720866688e-05, 4.31416870463495, 0.11115236115236116)"
      ]
     },
     "execution_count": 137,
     "metadata": {},
     "output_type": "execute_result"
    }
   ],
   "source": [
    "#Code for #1  \n",
    "n = len(df['chron']) \n",
    "x = df.chron.value_counts()[1]\n",
    "p_hat = x/n  \n",
    "p = 0.10\n",
    "\n",
    "z = (p_hat-p)/ math.sqrt(p*(1-p)/n) \n",
    "z \n",
    "\n",
    "p_value = (1 - stats.norm.cdf(z)) * 2\n",
    "p_value, z, p_hat \n"
   ]
  },
  {
   "cell_type": "markdown",
   "metadata": {},
   "source": [
    "9B - 2) \n",
    "    #1. Write down the null and alternative hypothesis you are testing.\n",
    "          - H0: p = .10 H1: p != .10 \n",
    "\n",
    "    #2. Select the appropriate test and calculate the test statistic and P-values.\n",
    "           - Z-test because we are comparing a sample proportion to a population proportion and np and n(1-p) are greater than 10.  \n",
    "\n",
    "    #3. Determine the critical value for the 95% confidence interval. \n",
    "           - z-score +/- 1.96\n",
    "\n",
    "    #4. Evaluate the test statistic agains the critical value.\n",
    "           - z-test: -2.3864100521943357  p-value: 0.008506884390564538\n",
    "\n",
    "    #5. Determine if you reject or fail to reject the null hypothesis and write a sentence explaining the results of your hypothesis test.  \n",
    "           - We will reject our null hypothesis because our test statistic is less that our critical value (1.96).     \n",
    "    \n",
    "  - Yes, there is a statistically significant difference between men and women who are chronically sick. \n"
   ]
  },
  {
   "cell_type": "code",
   "execution_count": 158,
   "metadata": {},
   "outputs": [
    {
     "data": {
      "text/plain": [
       "(-2.3864100521943357, 0.008506884390564538)"
      ]
     },
     "execution_count": 158,
     "metadata": {},
     "output_type": "execute_result"
    }
   ],
   "source": [
    "#Code for #2 \n",
    "\n",
    "#Get numbers to be used in p  \n",
    "fem_s = df.groupby('SEX')['chron'].value_counts()['Female'][1]\n",
    "fem_h = df.groupby('SEX')['chron'].value_counts()['Female'][0] \n",
    "fem = fem_s + fem_h \n",
    "mal_s = df.groupby('SEX')['chron'].value_counts()['Male'][1]\n",
    "mal_h = df.groupby('SEX')['chron'].value_counts()['Male'][0] \n",
    "mal = mal_s + mal_h\n",
    " \n",
    "#Calulate p and z\n",
    "p1 = mal_s/mal \n",
    "p2 = fem_s/fem   \n",
    "p = (mal_s + fem_s)/(mal+fem)\n",
    "\n",
    "z = (p1-p2)/math.sqrt(p*(1-p)*(1/mal+1/fem))\n",
    "p_value = stats.norm.cdf(z)\n",
    "z, p_value    "
   ]
  },
  {
   "cell_type": "markdown",
   "metadata": {},
   "source": [
    "9B - 3: \n",
    "    #1. Write down the null and alternative hypothesis you are testing.\n",
    "           - $H_0$: p1 = p2          $H_1$: At least one p is different\n",
    "\n",
    "    #2. Select the appropriate test and calculate the test statistic and P-values.\n",
    "           - Chi-squared because we are comparing more than three catagorical values and we're interesting in proportions.\n",
    "\n",
    "    #3. Determine the critical value for the 95% confidence interval. \n",
    "           - critical value = 5.991\n",
    "\n",
    "    #4. Evaluate the test statistic agains the critical value.\n",
    "           - test stat = 14.814     p-value = 0.001\n",
    "\n",
    "    #5. Determine if you reject or fail to reject the null hypothesis and write a sentence explaining the results of your hypothesis test.  \n",
    "           - We will reject the null hypothesis because our test state is very different from \n",
    "    \n",
    "    - There "
   ]
  },
  {
   "cell_type": "code",
   "execution_count": 156,
   "metadata": {},
   "outputs": [
    {
     "name": "stdout",
     "output_type": "stream",
     "text": [
      "critical = 5.991, stat = 14.814\n",
      "Dependent (reject H0)\n",
      "significance = 0.050, p = 0.001\n",
      "Dependent (reject H0)\n"
     ]
    }
   ],
   "source": [
    "# Code for #3\n",
    "\n",
    "#import needed packages\n",
    "from scipy.stats import chi2_contingency\n",
    "from scipy.stats import chi2 \n",
    "\n",
    "#Set the variables\n",
    "chron_by_state = df.groupby('chron')['state'].value_counts().unstack()\n",
    "prob = 0.95\n",
    "\n",
    "#Create function\n",
    "def run_chiss(variable, prob):\n",
    "    stat, p, dof, expected = chi2_contingency(chron_by_state) \n",
    "    critical = chi2.ppf(prob, dof)                           \n",
    "                             \n",
    "    print('critical = %.3f, stat = %.3f' % (critical, stat))\n",
    "    if abs(stat) >= critical:\n",
    "        print('Dependent (reject H0)')\n",
    "    else:\n",
    "        print('Independent (fail to reject H0)') \n",
    "    \n",
    "    alpha = 1.0 - prob\n",
    "    print('significance = %.3f, p = %.3f' % (alpha, p))\n",
    "    if p <= alpha:\n",
    "        print('Dependent (reject H0)')\n",
    "    else:\n",
    "        print('Independent (fail to reject H0)')  \n",
    "        \n",
    "#Run function \n",
    "run_chiss(chron_by_state, prob)"
   ]
  },
  {
   "cell_type": "markdown",
   "metadata": {},
   "source": [
    "# 10. Independent Investigation\n",
    "\n",
    "Now that you have invesitgated physical health and chronic sickness and their relationships with states and gender, you will conduct a similar investigation with variables of your choosing. \n"
   ]
  },
  {
   "cell_type": "markdown",
   "metadata": {},
   "source": [
    "**Select a continuous variable from the survey questions as you dependent variable and perform the following:**\n",
    "  1. Determine the sample mean and sample standard deviation\n",
    "  2. Create a confidence interval for a population mean.\n",
    "  3. Perform a two-sample test of means for gender.\n",
    "  4. Perform a one-way ANOVA using your categorical independent variable."
   ]
  },
  {
   "cell_type": "markdown",
   "metadata": {},
   "source": [
    "**Select/create a binary variable from the survey questions as you dependent variable and perform the following:**\n",
    "  1. Create a confidence interval for a population proportion.\n",
    "  2. Perform a two proportions z-test using gender.\n",
    "  3. Perform a Chi-Square test using your categorical independent variable."
   ]
  },
  {
   "cell_type": "code",
   "execution_count": 189,
   "metadata": {},
   "outputs": [],
   "source": [
    "#Choose a continuous variable from the survery and clean up data\n",
    "df = pd.read_csv('case_study.csv', index_col=0, low_memory=False)\n",
    "df['MENTHLTH'] = df['MENTHLTH'].replace([88,77,99],[0,None,None])\n",
    "df.dropna(axis=0,subset=['MENTHLTH'], inplace=True) \n",
    "df.rename (columns={'MENTHLTH':'mental_health', '_STATE':'state'}, inplace = True)  \n",
    "conditions = [df['state'] == 9., df['state'] == 34., df['state'] == 36.] #connects the state to these values \n",
    "choices = ['Connecticut', 'New Jersey', 'New York'] #sets the state name options \n",
    "df['state'] = np.select(conditions, choices, default = 'NA') #links these state names to the associatd number\n",
    "\n",
    "#Set Variable \n",
    "mh_mean = np.mean(df['mental_health'])\n",
    "mh_std = np.std(df['mental_health'])  \n",
    "n = len(df['mental_health'])"
   ]
  },
  {
   "cell_type": "code",
   "execution_count": 190,
   "metadata": {},
   "outputs": [
    {
     "name": "stdout",
     "output_type": "stream",
     "text": [
      "Our sample mean is 3.464 and our standard deviation is 7.756.\n"
     ]
    }
   ],
   "source": [
    "#Determine the sample mean and sample standard deviation \n",
    "print(\"Our sample mean is {} and our standard deviation is {}.\".format(round(mh_mean, 3), round(mh_std,3)))"
   ]
  },
  {
   "cell_type": "code",
   "execution_count": 191,
   "metadata": {},
   "outputs": [
    {
     "name": "stdout",
     "output_type": "stream",
     "text": [
      "We are 95% confident that our population mean is 3.381 and 3.547.\n"
     ]
    }
   ],
   "source": [
    "#Create a confidence interval for a population mean at 95% confidence\n",
    "moe = 1.96*(mh_std/math.sqrt(n))\n",
    "ci_min = round((mh_mean - moe), 3)\n",
    "ci_max = round((mh_mean + moe), 3)\n",
    "print(\"We are 95% confident that our population mean is {} and {}.\".format(round(ci_min, 3), round(ci_max,3)))"
   ]
  },
  {
   "cell_type": "code",
   "execution_count": 192,
   "metadata": {},
   "outputs": [
    {
     "name": "stdout",
     "output_type": "stream",
     "text": [
      "Our critical value is 10.397 and our p-value is 2.7833814372507793e-25.\n",
      "This two-sided test for the null hypothesis that our samples have identical an expected values. In this case they do not.\n"
     ]
    }
   ],
   "source": [
    "#Perform a two-sample test of means for gender. \n",
    "\n",
    "#Clean up data\n",
    "# df['SEX'] = df['SEX'].replace([1,2],['Male','Female'])\n",
    "# df['SEX'] = df['SEX'].replace([9],None)\n",
    "# df.dropna(axis=0,subset=['SEX'], inplace=True)\n",
    "# df.rename (columns={'SEX':'sex'}, inplace = True) \n",
    "\n",
    "#Set variable \n",
    "s1 = df['mental_health'].loc[df['sex'] == 'Female'] \n",
    "s2 = df['mental_health'].loc[df['sex'] == 'Male']  \n",
    "\n",
    "\n",
    "#Perform a two-sample test of means for gender. \n",
    "from scipy.stats import ttest_ind\n",
    "t, p = ttest_ind(s1, s2, equal_var=False) #False to perform Welch’s t-test, which does not assume equal population variance because we dont know the population variance\n",
    "\n",
    "print(\"Our critical value is {} and our p-value is {}.\".format(round(t, 3), p)) \n",
    "print(\"This two-sided test for the null hypothesis that our samples have identical an expected values. In this case they do not.\")"
   ]
  },
  {
   "cell_type": "code",
   "execution_count": 193,
   "metadata": {},
   "outputs": [
    {
     "data": {
      "text/plain": [
       "F_onewayResult(statistic=15.618259188321215, pvalue=1.6603525412480862e-07)"
      ]
     },
     "execution_count": 193,
     "metadata": {},
     "output_type": "execute_result"
    }
   ],
   "source": [
    "#Perform a one-way ANOVA using your categorical independent variable.\n",
    "stats.f_oneway(df['mental_health'][df['state'] == 'Connecticut'],\n",
    "                df['mental_health'][df['state'] == 'New Jersey'], \n",
    "                df['mental_health'][df['state'] == 'New York'])"
   ]
  },
  {
   "cell_type": "code",
   "execution_count": 200,
   "metadata": {},
   "outputs": [
    {
     "name": "stdout",
     "output_type": "stream",
     "text": [
      "Our z-critical value is :\n",
      "1.959963984540054\n",
      "\n",
      " Our margin of error is:\n",
      "0.005346797716320506\n",
      "\n",
      "Our confidence interval is:\n",
      "(0.4899346764880795, 0.5006282719207205)\n",
      "\n",
      "We are 95% confident that our proportion of married people is 0.4899346764880795 and 0.5006282719207205.\n"
     ]
    }
   ],
   "source": [
    "#Create a confidence interval for a population proportion.\n",
    "\n",
    "#Clean up the data\n",
    "# df['MARITAL'] = df['MARITAL'].replace([2,3,4,5,6,9],[0,0,0,0,0,None])\n",
    "# df.dropna(axis=0,subset=['MARITAL'], inplace=True) \n",
    "# df.rename (columns={'MARITAL':'marital'}, inplace = True)  \n",
    "\n",
    "q= .975 \n",
    "sam_mar = df['marital']\n",
    "\n",
    "conf_interval(sam_mar, q) \n",
    "\n",
    "z_critical, margin_of_error, confidence_interval = conf_interval(sam_mar, q) #maps the items returned from fucntion in the same order \n",
    "print(\"Our z-critical value is :\")              \n",
    "print(z_critical)         \n",
    "print ('\\n Our margin of error is:')\n",
    "print(margin_of_error)\n",
    "print(\"\\nOur confidence interval is:\")\n",
    "print(confidence_interval) \n",
    "\n",
    "print(\"\\nWe are 95% confident that our proportion of married people is {} and {}.\".format(confidence_interval[0], confidence_interval[1] ))"
   ]
  },
  {
   "cell_type": "code",
   "execution_count": 202,
   "metadata": {},
   "outputs": [
    {
     "data": {
      "text/plain": [
       "sex     marital\n",
       "Female  0.0        10289\n",
       "        1.0         8520\n",
       "Male    1.0         8117\n",
       "        0.0         6665\n",
       "Name: marital, dtype: int64"
      ]
     },
     "execution_count": 202,
     "metadata": {},
     "output_type": "execute_result"
    }
   ],
   "source": [
    "df.groupby('sex')['marital'].value_counts()"
   ]
  },
  {
   "cell_type": "code",
   "execution_count": 227,
   "metadata": {},
   "outputs": [
    {
     "name": "stdout",
     "output_type": "stream",
     "text": [
      "My z score is 17.49393814140478 and my p-value is 0.0.\n"
     ]
    }
   ],
   "source": [
    "#Perform a two proportions z-test using gender.  \n",
    "\n",
    "#Get numbers to be used in p  \n",
    "fem_mar = df.groupby('sex')['marital'].value_counts()['Female'][1]\n",
    "fem_sin = df.groupby('sex')['marital'].value_counts()['Female'][0] \n",
    "fem_marital = fem_mar + fem_sin \n",
    "mal_mar = df.groupby('sex')['marital'].value_counts()['Male'][1]\n",
    "mal_sin = df.groupby('sex')['marital'].value_counts()['Male'][0] \n",
    "mal_marital= mal_mar + mal_sin\n",
    " \n",
    "#Calulate p and z\n",
    "p1 = mal_mar/mal_marital\n",
    "p2 = fem_mar/fem_marital   \n",
    "p = (mal_mar + fem_mar)/(mal_marital+fem_marital)\n",
    "\n",
    "z = (p1-p2)/math.sqrt(p*(1-p)*(1/mal_marital+1/fem_marital))\n",
    "p_value = (1-stats.norm.cdf(z))\n",
    "\n",
    "print(\"My z score is {} and my p-value is {}.\".format(z, round(p_value, 19))) "
   ]
  },
  {
   "cell_type": "code",
   "execution_count": 229,
   "metadata": {},
   "outputs": [
    {
     "name": "stdout",
     "output_type": "stream",
     "text": [
      "critical = 5.991, stat = 14.814\n",
      "Dependent (reject H0)\n",
      "significance = 0.050, p = 0.001\n",
      "Dependent (reject H0)\n"
     ]
    }
   ],
   "source": [
    "#Perform a Chi-Square test using your categorical independent variable. \n",
    "\n",
    "#Set variable\n",
    "marital_by_sex = df.groupby('sex')['marital'].value_counts().unstack()\n",
    "prob = 0.95\n",
    "        \n",
    "#Run function previously created function \n",
    "run_chiss(marital_by_sex, prob)"
   ]
  },
  {
   "cell_type": "code",
   "execution_count": null,
   "metadata": {},
   "outputs": [],
   "source": []
  }
 ],
 "metadata": {
  "kernelspec": {
   "display_name": "Python 3",
   "language": "python",
   "name": "python3"
  },
  "language_info": {
   "codemirror_mode": {
    "name": "ipython",
    "version": 3
   },
   "file_extension": ".py",
   "mimetype": "text/x-python",
   "name": "python",
   "nbconvert_exporter": "python",
   "pygments_lexer": "ipython3",
   "version": "3.8.3"
  }
 },
 "nbformat": 4,
 "nbformat_minor": 4
}
